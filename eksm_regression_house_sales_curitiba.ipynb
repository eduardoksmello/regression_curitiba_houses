{
 "cells": [
  {
   "cell_type": "markdown",
   "id": "838bf4c9",
   "metadata": {},
   "source": [
    "# Objetivo Geral do Projeto\n",
    "\n",
    "Simular o desenvolvimento de um sistema de coleta de dados e avaliação com o objetivo de prever o valor de um imóvel com base em suas demais características."
   ]
  },
  {
   "cell_type": "markdown",
   "id": "56ca1264",
   "metadata": {},
   "source": [
    "# Pedidos do CEO (perguntas de negócio):\n",
    "1. Realizar busca de imóveis no site www.portalimoveiscuritiba.com.br e salvar resultado em um ficheiro CSV.\n",
    "2. Quais os imóveis disponíveis em Curitiba?\n",
    "3. Destes imóveis, qual é o que possui mais quartos e qual tem mais espaços de garagem?\n",
    "4. Quais são os imóveis mais caro e mais barato de Curitiba?\n",
    "5. Criar uma classificação para os imóveis de Curitiba, separando-os em categorias proporcionais (baixo padrão/ alto padrão).\n",
    "6. Criar um relatório ordenado pelo preço dos imóveis de Curitiba.\n",
    "7. Criar uma classificação de acordo com a região/zona da cidade de Curitiba que o imóvel está localizado.\n",
    "8. Desenvolver um sistema preditivo do preço do imóvel em função das características de quartos, garagens e região de Curitiba."
   ]
  },
  {
   "cell_type": "markdown",
   "id": "0a9272ee",
   "metadata": {},
   "source": [
    "# Procedimentos para a solução:\n",
    "\n",
    "- Web Scraping\n",
    "- Análise Exploratória dos Dados\n",
    "- Processamento dos Dados\n",
    "- Modelo de Regressão\n",
    "- Respostas para perguntas de negócio"
   ]
  },
  {
   "cell_type": "markdown",
   "id": "7aceb5be",
   "metadata": {},
   "source": [
    "# Parte 1: WEB SCRAPING"
   ]
  },
  {
   "cell_type": "markdown",
   "id": "b4fe1b28",
   "metadata": {},
   "source": [
    "# Objetivo específico\n",
    "\n",
    "Realizar processo de coleta de dados estruturados da web de maneira automatizada (web scraping) de site de imóveis residenciais de Curitiba (Brasil)."
   ]
  },
  {
   "cell_type": "markdown",
   "id": "aa4e86b7",
   "metadata": {},
   "source": [
    "# Bibliotecas"
   ]
  },
  {
   "cell_type": "code",
   "execution_count": 2,
   "id": "8799af0b",
   "metadata": {},
   "outputs": [],
   "source": [
    "from urllib.request import urlopen, urlretrieve, Request\n",
    "from urllib.error import URLError, HTTPError\n",
    "import urllib.request as urllib_request\n",
    "from bs4 import BeautifulSoup\n",
    "\n",
    "import pandas as pd\n",
    "import numpy as np\n",
    "\n",
    "import matplotlib.pyplot as plt\n",
    "import seaborn as sns\n",
    "sns.set_palette('Accent')\n",
    "sns.set_style('darkgrid')\n",
    "\n",
    "import warnings\n",
    "warnings.filterwarnings(\"ignore\")"
   ]
  },
  {
   "cell_type": "markdown",
   "id": "048faee1",
   "metadata": {},
   "source": [
    "# Conexão com o site"
   ]
  },
  {
   "cell_type": "code",
   "execution_count": 3,
   "id": "3304fda1",
   "metadata": {},
   "outputs": [
    {
     "name": "stdout",
     "output_type": "stream",
     "text": [
      "b'<!DOCTYPE html PUBLIC \"-//W3C//DTD HTML 4.01 Transitional//EN\" \"https://www.w3.org/TR/html4/loose.dtd\">\\n<html>\\n    <head>\\n    <meta http-equiv=\"Content-Type\" content=\"text/html; charset=UTF-8\">\\n    <meta name=\"viewport\" content=\"width=device-width, initial-scale=1\">\\n        <meta property=\"og:type\" content=\"website\" />\\n        <meta property=\"og:title\" content=\"Portal Im\\xc3\\xb3veis Curitiba\" />\\n        <meta property=\"og:description\" content=\"Portal im\\xc3\\xb3veis curitiba. Imobili\\xc3\\xa1rias em Curitiba e Regi\\xc3\\xa3o. Apartamentos e casas para alugar em curitiba. Procurando im\\xc3\\xb3veis em curitiba? Veja ofertas!\" />\\n        <meta property=\"og:url\" content=\"https://portalimoveiscuritiba.com.br/imoveis?nidtbxfin=1&nidtbxtpi=1&nidtagbac=&nidtbxloc=\" />\\n        <meta property=\"og:image\" content=\"https://portalimoveiscuritiba.com.br/images/screenshot-portal-2.png\" />\\n    <meta property=\"og:image:width\" content=\"291\" />\\n    <meta property=\"og:image:height\" content=\"167\" />\\n    <meta property=\"og:locale\" content=\"pt_BR\" />\\n    <meta property=\"fb:app_id\" content=\"844160346018609\" />\\n    <title>Comprar Apartamento</title>\\n    <meta name=\"description\" content=\"Portal im\\xc3\\xb3veis curitiba. Imobili\\xc3\\xa1rias em Curitiba e Regi\\xc3\\xa3o. Apartamentos e casas para alugar em curitiba. Procurando im\\xc3\\xb3veis em curitiba? Veja ofertas!\">\\n    <meta name=\"keywords\" content=\"im\\xc3\\xb3veis curitiba, imobili\\xc3\\xa1rias em Curitiba, im\\xc3\\xb3veis em Curitiba, casas para alugar em Curitiba, apartamentos para alugar em Curitiba, apartamentos em Curitiba\">\\n    <link rel=\"stylesheet\" href=\"https://maxcdn.bootstrapcdn.com/bootstrap/3.3.7/css/bootstrap.min.css\" integrity=\"sha384-BVYiiSIFeK1dGmJRAkycuHAHRg32OmUcww7on3RYdg4Va+PmSTsz/K68vbdEjh4u\" crossorigin=\"anonymous\">\\n    <link href=\"https://portalimoveiscuritiba.com.br/styles/style.css\" media=\"screen\" rel=\"stylesheet\" type=\"text/css\">\\n    <link href=\"https://portalimoveiscuritiba.com.br/images/favicon.ico\" rel=\"shortcut icon\">\\n</head>\\n    <body>\\n        <div class=\"tl-wrapper\">\\n            <div id=\"content\">\\n                <header class=\"tl-header\" id=\"tl-header_v1\">\\n    <div class=\"tl-navigation-row\">\\n        <div class=\"container\">\\n            <div class=\"row\">\\n                <div class=\"col-md-4 col-sm-4\" style=\"float: left;\">\\n                    <strong class=\"tl-logo\">\\n                        <a href=\"https://portalimoveiscuritiba.com.br/\" title=\"Portal Im\\xc3\\xb3veis Curitiba - para quem quer comprar e alugar im\\xc3\\xb3veis em Curitiba . portalimoveiscuritiba.com.br\">\\n                            <img style=\"max-width: 191px;height: auto;\" src=\"https://portalimoveiscuritiba.com.br/images/logo-portal-imoveis-curitiba.png\" alt=\"\">\\n                        </a>\\n                    </strong>\\n                </div>\\n                <div class=\"col-md-7 col-sm-7\" id=\"btnstopo\" style=\"margin-top: 18px\">\\n                    <a href=\"nao-achei\" style=\"min-width:156px; padding: 13px 12px; float: right; margin-left: 37px\" class=\"tl-btn-style1\">Solicite Um Im\\xc3\\xb3vel</a>\\n                    <a href=\"contato\" style=\"min-width:156px; padding: 13px 12px; float: right;\" class=\"tl-btn-style1\">Anuncie Seu Im\\xc3\\xb3vel</a>\\n                </div>\\n                <div class=\"col-1 col-md-1 col-sm-1 col-xl-1 text-center\" style=\"float: right; margin-top: 18px\">\\n                    <a href=\"#\" style=\"min-width: 27px; padding: 13px 15px\" id=\"sidebarCollapse\" class=\"tl-btn-style1\">\\n                        <svg class=\"icon-bars\">\\n                            <use xlink:href=\"https://portalimoveiscuritiba.com.br/images/icons.svg#icon-bars\"></use>\\n                        </svg>\\n                    </a>\\n                </div>\\n            </div>\\n        </div>\\n    </div>\\n</header>\\n            <section class=\"tl-inner-banner\">\\n                <div class=\"container\">\\n                    <div class=\"left-holder\">\\n                        <h3>Comprar Apartamento</h3>\\n                                            </div>\\n                    <ul class=\"tl-breadcrumb-listed\">\\n                        <li><a href=\"https://portalimoveiscuritiba.com.br/\">Home</a></li>\\n                        <li class=\"active\">> Pesquisa de Im\\xc3\\xb3veis</li>\\n                    </ul>\\n                </div>\\n            </section>\\n            <div class=\"tl-main-content\">\\n                <section class=\"tl-profile-section\">\\n                    <div class=\"container\">\\n                        <div class=\"row\">\\n                            <div class=\"col-md-12 col-sm-12 col-xs-12\"><div class=\"tl-main-content\">\\n    <section class=\"tl-properties-section\">\\n        <div class=\"container\">\\n            <div class=\"row res-pesq\">\\n                <div class=\"col-md-4 col-sm-4 col-xs-12\">\\n                    <aside class=\"tl-sidebar-outer\">\\n                        <div class=\"widget widget-advanced-search\" id=\"nova-busca\">\\n                            <h3>NOVA BUSCA</h3>\\n                            <a href=\"https://portalimoveiscuritiba.com.br/\" style=\"width: 100%\" class=\"tl-btn-style1\">Nova Busca</a>\\n                        </div>\\n                        <div class=\"widget widget-categories\">\\n                            <h3>BANNERS PUBLICIT\\xc3\\x81RIOS</h3>\\n                            <div class=\"tl-categories-banner\">\\n                                <a href=\"imoveis-venda-j8-imoveis-154\">\\n                                    <img src=\"images/banner_j8.jpeg\" alt=\"J8 Im\\xc3\\xb3veis\">\\n                                </a>\\n                            </div>\\n\\t\\t\\t    <div class=\"tl-categories-banner\">\\n                                <a target=\"_blank\" href=\"https://malucellicorretor.com\">\\n                                    <img src=\"images/banner_malucelli.jpeg\" alt=\"Malucelli Corretor\">\\n                                </a>\\n                            </div>\\n                            <div class=\"tl-categories-banner\">\\n                                <a target=\"_blank\" href=\"https://redeimoveisaraucaria.com.br\">\\n                                    <img src=\"images/banner_ria.jpeg\" alt=\"Rede Im\\xc3\\xb3veis Arauc\\xc3\\xa1ria\">\\n                                </a>\\n                            </div>\\n                            <div class=\"tl-categories-banner\">\\n                                <a target=\"_blank\" href=\"http://www.portalimoveislitoralparana.com.br/\">\\n                                    <img src=\"images/banner_pilp.jpeg\" alt=\"Portal Im\\xc3\\xb3veis Litoral do Paran\\xc3\\xa1\">\\n                                </a>\\n                            </div>\\n                        </div>\\n\\n                        <div class=\"widget widget-categories\">\\n                            <h3>SUPER DESTAQUE</h3>\\n                            <div class=\"tl-categories-banner\">\\n                                <a target=\"_blank\" href=\"https://webmarketingimobiliario.com.br\">\\n                                    <img src=\"images/banner_superdestaque.jpeg\" alt=\"Web Marketing Imobiliario\">\\n                                </a>\\n                            </div>\\n                        </div>\\n\\n                        \\n                            <div class=\"widget widget-recent\" id=\"sugestao-imoveis\">\\n                                <h3>SUGEST\\xc3\\x83O DE IM\\xc3\\x93VEIS</h3>\\n\\n                                <ul class=\"tl-recent-listed\">\\n\\n                                    \\n                                        <li class=\"pesq-sug-imoveis\">\\n                                            <div class=\"tl-properties-item\">\\n                                                <figure class=\"tl-properties-thumb\">\\n                                                    <a href=\"comprar-apartamento-sao-jose-dos-pinhais-boneca-do-iguacu-125354.html\">\\n                                                        <img src=\"https://www.webdivulgador.com.br/public/entidade/447/imovel/125354/foto/thumb/6890520.jpg\">\\n                                                        <figcaption class=\"tl-caption\">\\n                                                            <div class=\"bottom-text\">\\n                                                                <h5>R$ 175.000,00</h5>\\n                                                            </div>\\n                                                        </figcaption>\\n                                                    </a>\\n                                                </figure>\\n                                                <div class=\"tl-text-holder\">\\n                                                    <h4><a href=\"comprar-apartamento-sao-jose-dos-pinhais-boneca-do-iguacu-125354.html\">Apartamento</a></h4>\\n                                                    <ul class=\"tl-meta-listed\">\\n                                                        <li>BONECA DO IGUACU</li>\\n                                                        <li>S\\xc3\\x83O JOS\\xc3\\x89 DOS PINHAIS</li>\\n                                                    </ul>\\n                                                </div>\\n                                            </div>\\n                                        </li>\\n\\n                                    \\n                                        <li class=\"pesq-sug-imoveis\">\\n                                            <div class=\"tl-properties-item\">\\n                                                <figure class=\"tl-properties-thumb\">\\n                                                    <a href=\"comprar-apartamento-curitiba-cabral-161613.html\">\\n                                                        <img src=\"https://www.webdivulgador.com.br/public/entidade/709/imovel/161613/foto/thumb/5016423.jpg\">\\n                                                        <figcaption class=\"tl-caption\">\\n                                                            <div class=\"bottom-text\">\\n                                                                <h5>R$ 1.526.112,00</h5>\\n                                                            </div>\\n                                                        </figcaption>\\n                                                    </a>\\n                                                </figure>\\n                                                <div class=\"tl-text-holder\">\\n                                                    <h4><a href=\"comprar-apartamento-curitiba-cabral-161613.html\">Apartamento</a></h4>\\n                                                    <ul class=\"tl-meta-listed\">\\n                                                        <li>CABRAL</li>\\n                                                        <li>CURITIBA</li>\\n                                                    </ul>\\n                                                </div>\\n                                            </div>\\n                                        </li>\\n\\n                                    \\n                                        <li class=\"pesq-sug-imoveis\">\\n                                            <div class=\"tl-properties-item\">\\n                                                <figure class=\"tl-properties-thumb\">\\n                                                    <a href=\"comprar-apartamento-curitiba-batel-162821.html\">\\n                                                        <img src=\"https://www.webdivulgador.com.br/public/entidade/709/imovel/162821/foto/thumb/5988766.png\">\\n                                                        <figcaption class=\"tl-caption\">\\n                                                            <div class=\"bottom-text\">\\n                                                                <h5>R$ 1.037.442,00</h5>\\n                                                            </div>\\n                                                        </figcaption>\\n                                                    </a>\\n                                                </figure>\\n                                                <div class=\"tl-text-holder\">\\n                                                    <h4><a href=\"comprar-apartamento-curitiba-batel-162821.html\">Apartamento</a></h4>\\n                                                    <ul class=\"tl-meta-listed\">\\n                                                        <li>BATEL</li>\\n                                                        <li>CURITIBA</li>\\n                                                    </ul>\\n                                                </div>\\n                                            </div>\\n                                        </li>\\n\\n                                    \\n                                        <li class=\"pesq-sug-imoveis\">\\n                                            <div class=\"tl-properties-item\">\\n                                                <figure class=\"tl-properties-thumb\">\\n                                                    <a href=\"comprar-apartamento-curitiba-batel-162873.html\">\\n                                                        <img src=\"https://www.webdivulgador.com.br/public/entidade/709/imovel/162873/foto/thumb/5039223.jpg\">\\n                                                        <figcaption class=\"tl-caption\">\\n                                                            <div class=\"bottom-text\">\\n                                                                <h5>R$ 1.150.000,00</h5>\\n                                                            </div>\\n                                                        </figcaption>\\n                                                    </a>\\n                                                </figure>\\n                                                <div class=\"tl-text-holder\">\\n                                                    <h4><a href=\"comprar-apartamento-curitiba-batel-162873.html\">Apartamento</a></h4>\\n                                                    <ul class=\"tl-meta-listed\">\\n                                                        <li>BATEL</li>\\n                                                        <li>CURITIBA</li>\\n                                                    </ul>\\n                                                </div>\\n                                            </div>\\n                                        </li>\\n\\n                                                                    </ul>\\n                            </div>\\n\\n                                            </aside>\\n                </div>\\n                <!-- end menu lateral esquerda -->\\n\\n                <div class=\"col-md-8 col-sm-8 col-xs-12\">\\n                    <div class=\"tl-filterable-holder tl-filterable-holder_v2\">\\n\\n\\n                        <div class=\"tl-filterlist\">\\n                            <div class=\"tl-morefilter\">\\n                            </div>\\n\\n                            \\n                            <span class=\"found-pages\">\\n                                <span class=\"found-pages\">2781 im\\xc3\\xb3veis encontrados</span>\\n                            </span>\\n                        </div>\\n                        <div class=\"tl-filterOuter\">\\n\\n                            \\n                                    <div class=\"tl-properties-item tl-properties-list-item\">\\n                                        <div class=\"row\">\\n                                            <div class=\"col-md-5 col-sm-5 col-xs-12\">\\n                                                <figure class=\"tl-properties-thumb\">\\n                                                    <a href=\"comprar-apartamento-araucaria-iguacu-30759.html\">\\n                                                        <img src=\"https://www.webcreci.com.br/imobiliarias/imobil7/venda_big/1304_1.jpg\" alt=\"\">\\n                                                    </a>\\n\\n                                                </figure>\\n                                            </div>\\n                                            <div class=\"col-md-7 col-sm-7 col-xs-12\">\\n                                                <!--Text Holder Start-->\\n                                                <div class=\"tl-text-holder\">\\n                                                    <h3 class=\"price\">R$ 189.000,00</h3>\\n                                                    <h4>\\n                                                        <a href=\"comprar-apartamento-araucaria-iguacu-30759.html\">**pode ser financiado e aceita fgts**\\n\\na partir de r$ 189.000,00\\n\\nrua deputado jo\\xc3\\xa3o leopoldo jacomel, 189 - apto 08...</a>\\n                                                    </h4>\\n                                                    <span class=\"address\">ARAUC\\xc3\\x81RIA - IGUA\\xc3\\x87U</span>\\n                                                    <ul class=\"tl-meta-listed\">\\n                                                        <li>\\n                                                            <svg class=\"icon-bed\">\\n                                                                <title>Quartos</title>\\n                                                                <use xlink:href=\"images/icons.svg#icon-bed\"></use>\\n                                                            </svg>2                                                        </li>\\n                                                        <li>\\n                                                            <svg class=\"icon-car\">\\n                                                                <title>Garagens</title>\\n                                                                <use xlink:href=\"images/icons.svg#icon-car\"></use>\\n                                                            </svg>1                                                        </li>\\n                                                    </ul>\\n                                                </div>\\n                                            </div>\\n                                        </div>\\n                                    </div>\\n\\n                                \\n                                    <div class=\"tl-properties-item tl-properties-list-item\">\\n                                        <div class=\"row\">\\n                                            <div class=\"col-md-5 col-sm-5 col-xs-12\">\\n                                                <figure class=\"tl-properties-thumb\">\\n                                                    <a href=\"comprar-apartamento-araucaria-centro-97552.html\">\\n                                                        <img src=\"https://www.webcreci.com.br/imobiliarias/imobil7/venda_big/1338_1.jpg\" alt=\"\">\\n                                                    </a>\\n\\n                                                </figure>\\n                                            </div>\\n                                            <div class=\"col-md-7 col-sm-7 col-xs-12\">\\n                                                <!--Text Holder Start-->\\n                                                <div class=\"tl-text-holder\">\\n                                                    <h3 class=\"price\">R$ 310.000,00</h3>\\n                                                    <h4>\\n                                                        <a href=\"comprar-apartamento-araucaria-centro-97552.html\">Excelente localiza\\xc3\\xa7\\xc3\\xa3o - apartamento com 91,00m\\xc2\\xb2 de \\xc3\\xa1rea total constru\\xc3\\xadda, com 02 quartos, banheiro, sala 02 ambientes, cozinha e \\xc3\\xa1rea...</a>\\n                                                    </h4>\\n                                                    <span class=\"address\">ARAUC\\xc3\\x81RIA - CENTRO</span>\\n                                                    <ul class=\"tl-meta-listed\">\\n                                                        <li>\\n                                                            <svg class=\"icon-bed\">\\n                                                                <title>Quartos</title>\\n                                                                <use xlink:href=\"images/icons.svg#icon-bed\"></use>\\n                                                            </svg>2                                                        </li>\\n                                                        <li>\\n                                                            <svg class=\"icon-car\">\\n                                                                <title>Garagens</title>\\n                                                                <use xlink:href=\"images/icons.svg#icon-car\"></use>\\n                                                            </svg>1                                                        </li>\\n                                                    </ul>\\n                                                </div>\\n                                            </div>\\n                                        </div>\\n                                    </div>\\n\\n                                \\n                                    <div class=\"tl-properties-item tl-properties-list-item\">\\n                                        <div class=\"row\">\\n                                            <div class=\"col-md-5 col-sm-5 col-xs-12\">\\n                                                <figure class=\"tl-properties-thumb\">\\n                                                    <a href=\"comprar-apartamento-curitiba-santa-candida-100918.html\">\\n                                                        <img src=\"https://s3-sa-east-1.amazonaws.com/grupo-union/17877/73677145.jpg\" alt=\"\">\\n                                                    </a>\\n\\n                                                </figure>\\n                                            </div>\\n                                            <div class=\"col-md-7 col-sm-7 col-xs-12\">\\n                                                <!--Text Holder Start-->\\n                                                <div class=\"tl-text-holder\">\\n                                                    <h3 class=\"price\">R$ 194.000,00</h3>\\n                                                    <h4>\\n                                                        <a href=\"comprar-apartamento-curitiba-santa-candida-100918.html\">Apartamento 49,73m\\xc2\\xb2 , 02 dormit\\xc3\\xb3rios, sala, cozinha com revestimento cer\\xc3\\xa2mico do piso ao teto, banheiro, sistema de interfone, portaria 24h,...</a>\\n                                                    </h4>\\n                                                    <span class=\"address\">CURITIBA - SANTA C\\xc3\\x82NDIDA</span>\\n                                                    <ul class=\"tl-meta-listed\">\\n                                                        <li>\\n                                                            <svg class=\"icon-bed\">\\n                                                                <title>Quartos</title>\\n                                                                <use xlink:href=\"images/icons.svg#icon-bed\"></use>\\n                                                            </svg>2                                                        </li>\\n                                                        <li>\\n                                                            <svg class=\"icon-car\">\\n                                                                <title>Garagens</title>\\n                                                                <use xlink:href=\"images/icons.svg#icon-car\"></use>\\n                                                            </svg>1                                                        </li>\\n                                                    </ul>\\n                                                </div>\\n                                            </div>\\n                                        </div>\\n                                    </div>\\n\\n                                \\n                                    <div class=\"tl-properties-item tl-properties-list-item\">\\n                                        <div class=\"row\">\\n                                            <div class=\"col-md-5 col-sm-5 col-xs-12\">\\n                                                <figure class=\"tl-properties-thumb\">\\n                                                    <a href=\"comprar-apartamento-curitiba-ecoville-114182.html\">\\n                                                        <img src=\"https://www.j8.com.br/vista.imobi/fotos/59004/ij8imovei59004_527928.jpg\" alt=\"\">\\n                                                    </a>\\n\\n                                                </figure>\\n                                            </div>\\n                                            <div class=\"col-md-7 col-sm-7 col-xs-12\">\\n                                                <!--Text Holder Start-->\\n                                                <div class=\"tl-text-holder\">\\n                                                    <h3 class=\"price\">R$ 3.850.000,00</h3>\\n                                                    <h4>\\n                                                        <a href=\"comprar-apartamento-curitiba-ecoville-114182.html\">Venha morar em um dos mais desejados apartamentos na regi\\xc3\\xa3o do ecoville.  com 560 m de \\xc3\\xa1rea total e 368...</a>\\n                                                    </h4>\\n                                                    <span class=\"address\">CURITIBA - ECOVILLE</span>\\n                                                    <ul class=\"tl-meta-listed\">\\n                                                        <li>\\n                                                            <svg class=\"icon-bed\">\\n                                                                <title>Quartos</title>\\n                                                                <use xlink:href=\"images/icons.svg#icon-bed\"></use>\\n                                                            </svg>4                                                        </li>\\n                                                        <li>\\n                                                            <svg class=\"icon-car\">\\n                                                                <title>Garagens</title>\\n                                                                <use xlink:href=\"images/icons.svg#icon-car\"></use>\\n                                                            </svg>4                                                        </li>\\n                                                    </ul>\\n                                                </div>\\n                                            </div>\\n                                        </div>\\n                                    </div>\\n\\n                                \\n                                    <div class=\"tl-properties-item tl-properties-list-item\">\\n                                        <div class=\"row\">\\n                                            <div class=\"col-md-5 col-sm-5 col-xs-12\">\\n                                                <figure class=\"tl-properties-thumb\">\\n                                                    <a href=\"comprar-apartamento-curitiba-ecoville-121611.html\">\\n                                                        <img src=\"https://www.j8.com.br/vista.imobi/fotos/59163/i42Ja8zA8k2888yX3Gdg_591635e3d747adb12e.jpg\" alt=\"\">\\n                                                    </a>\\n\\n                                                </figure>\\n                                            </div>\\n                                            <div class=\"col-md-7 col-sm-7 col-xs-12\">\\n                                                <!--Text Holder Start-->\\n                                                <div class=\"tl-text-holder\">\\n                                                    <h3 class=\"price\">R$ 2.745.000,00</h3>\\n                                                    <h4>\\n                                                        <a href=\"comprar-apartamento-curitiba-ecoville-121611.html\">Um apartamento \\xc3\\xbanico como voc\\xc3\\xaa. blue garnet no ecoville, novo e pronto para morar.  uma unidade por andar com 4...</a>\\n                                                    </h4>\\n                                                    <span class=\"address\">CURITIBA - ECOVILLE</span>\\n                                                    <ul class=\"tl-meta-listed\">\\n                                                        <li>\\n                                                            <svg class=\"icon-bed\">\\n                                                                <title>Quartos</title>\\n                                                                <use xlink:href=\"images/icons.svg#icon-bed\"></use>\\n                                                            </svg>3                                                        </li>\\n                                                        <li>\\n                                                            <svg class=\"icon-car\">\\n                                                                <title>Garagens</title>\\n                                                                <use xlink:href=\"images/icons.svg#icon-car\"></use>\\n                                                            </svg>4                                                        </li>\\n                                                    </ul>\\n                                                </div>\\n                                            </div>\\n                                        </div>\\n                                    </div>\\n\\n                                \\n                                    <div class=\"tl-properties-item tl-properties-list-item\">\\n                                        <div class=\"row\">\\n                                            <div class=\"col-md-5 col-sm-5 col-xs-12\">\\n                                                <figure class=\"tl-properties-thumb\">\\n                                                    <a href=\"comprar-apartamento-curitiba-ecoville-121612.html\">\\n                                                        <img src=\"https://www.j8.com.br/vista.imobi/fotos/59165/in65S74N1877u_591655e3d72c1b1185.jpg\" alt=\"\">\\n                                                    </a>\\n\\n                                                </figure>\\n                                            </div>\\n                                            <div class=\"col-md-7 col-sm-7 col-xs-12\">\\n                                                <!--Text Holder Start-->\\n                                                <div class=\"tl-text-holder\">\\n                                                    <h3 class=\"price\">R$ 3.032.000,00</h3>\\n                                                    <h4>\\n                                                        <a href=\"comprar-apartamento-curitiba-ecoville-121612.html\">Um apartamento \\xc3\\xbanico como voc\\xc3\\xaa. blue garnet no ecoville, novo e pronto para morar.  uma unidade por andar com 4...</a>\\n                                                    </h4>\\n                                                    <span class=\"address\">CURITIBA - ECOVILLE</span>\\n                                                    <ul class=\"tl-meta-listed\">\\n                                                        <li>\\n                                                            <svg class=\"icon-bed\">\\n                                                                <title>Quartos</title>\\n                                                                <use xlink:href=\"images/icons.svg#icon-bed\"></use>\\n                                                            </svg>3                                                        </li>\\n                                                        <li>\\n                                                            <svg class=\"icon-car\">\\n                                                                <title>Garagens</title>\\n                                                                <use xlink:href=\"images/icons.svg#icon-car\"></use>\\n                                                            </svg>4                                                        </li>\\n                                                    </ul>\\n                                                </div>\\n                                            </div>\\n                                        </div>\\n                                    </div>\\n\\n                                \\n                                    <div class=\"tl-properties-item tl-properties-list-item\">\\n                                        <div class=\"row\">\\n                                            <div class=\"col-md-5 col-sm-5 col-xs-12\">\\n                                                <figure class=\"tl-properties-thumb\">\\n                                                    <a href=\"comprar-apartamento-curitiba-champagnat-124874.html\">\\n                                                        <img src=\"https://www.j8.com.br/vista.imobi/fotos/59227/ij8imovei59227_229162.jpg\" alt=\"\">\\n                                                    </a>\\n\\n                                                </figure>\\n                                            </div>\\n                                            <div class=\"col-md-7 col-sm-7 col-xs-12\">\\n                                                <!--Text Holder Start-->\\n                                                <div class=\"tl-text-holder\">\\n                                                    <h3 class=\"price\">R$ 1.640.000,00</h3>\\n                                                    <h4>\\n                                                        <a href=\"comprar-apartamento-curitiba-champagnat-124874.html\">Alto padr\\xc3\\xa3o e pronto para morar! apartamentos com vistas definidas e v\\xc3\\xa1rias op\\xc3\\xa7\\xc3\\xb5es de andares que agradam a todos no...</a>\\n                                                    </h4>\\n                                                    <span class=\"address\">CURITIBA - CHAMPAGNAT</span>\\n                                                    <ul class=\"tl-meta-listed\">\\n                                                        <li>\\n                                                            <svg class=\"icon-bed\">\\n                                                                <title>Quartos</title>\\n                                                                <use xlink:href=\"images/icons.svg#icon-bed\"></use>\\n                                                            </svg>3                                                        </li>\\n                                                        <li>\\n                                                            <svg class=\"icon-car\">\\n                                                                <title>Garagens</title>\\n                                                                <use xlink:href=\"images/icons.svg#icon-car\"></use>\\n                                                            </svg>3                                                        </li>\\n                                                    </ul>\\n                                                </div>\\n                                            </div>\\n                                        </div>\\n                                    </div>\\n\\n                                \\n                                    <div class=\"tl-properties-item tl-properties-list-item\">\\n                                        <div class=\"row\">\\n                                            <div class=\"col-md-5 col-sm-5 col-xs-12\">\\n                                                <figure class=\"tl-properties-thumb\">\\n                                                    <a href=\"comprar-apartamento-curitiba-ecoville-125107.html\">\\n                                                        <img src=\"https://www.j8.com.br/vista.imobi/fotos/59006/ij8imovei59006_191198.jpg\" alt=\"\">\\n                                                    </a>\\n\\n                                                </figure>\\n                                            </div>\\n                                            <div class=\"col-md-7 col-sm-7 col-xs-12\">\\n                                                <!--Text Holder Start-->\\n                                                <div class=\"tl-text-holder\">\\n                                                    <h3 class=\"price\">R$ 3.933.000,00</h3>\\n                                                    <h4>\\n                                                        <a href=\"comprar-apartamento-curitiba-ecoville-125107.html\">Arquitetura contempor\\xc3\\xa2nea, linhas limpas e neutras no melhor do ecoville. luxo e sofistica\\xc3\\xa7\\xc3\\xa3o em uma planta caprichada com 4 su\\xc3\\xadtes...</a>\\n                                                    </h4>\\n                                                    <span class=\"address\">CURITIBA - ECOVILLE</span>\\n                                                    <ul class=\"tl-meta-listed\">\\n                                                        <li>\\n                                                            <svg class=\"icon-bed\">\\n                                                                <title>Quartos</title>\\n                                                                <use xlink:href=\"images/icons.svg#icon-bed\"></use>\\n                                                            </svg>4                                                        </li>\\n                                                        <li>\\n                                                            <svg class=\"icon-car\">\\n                                                                <title>Garagens</title>\\n                                                                <use xlink:href=\"images/icons.svg#icon-car\"></use>\\n                                                            </svg>4                                                        </li>\\n                                                    </ul>\\n                                                </div>\\n                                            </div>\\n                                        </div>\\n                                    </div>\\n\\n                                \\n                                    <div class=\"tl-properties-item tl-properties-list-item\">\\n                                        <div class=\"row\">\\n                                            <div class=\"col-md-5 col-sm-5 col-xs-12\">\\n                                                <figure class=\"tl-properties-thumb\">\\n                                                    <a href=\"comprar-apartamento-sao-jose-dos-pinhais-boneca-do-iguacu-125354.html\">\\n                                                        <img src=\"https://www.webdivulgador.com.br/public/entidade/447/imovel/125354/foto/full/6890520.jpg\" alt=\"\">\\n                                                    </a>\\n\\n                                                </figure>\\n                                            </div>\\n                                            <div class=\"col-md-7 col-sm-7 col-xs-12\">\\n                                                <!--Text Holder Start-->\\n                                                <div class=\"tl-text-holder\">\\n                                                    <h3 class=\"price\">R$ 175.000,00</h3>\\n                                                    <h4>\\n                                                        <a href=\"comprar-apartamento-sao-jose-dos-pinhais-boneca-do-iguacu-125354.html\">1201 residencial 722\\nlocaliza\\xc3\\xa7\\xc3\\xa3o: boneca do igua\\xc3\\xa7u, pr\\xc3\\xb3ximo a rua herry feeken\\n10 unidades em torre \\xc3\\xbanica\\nop\\xc3\\xa7\\xc3\\xb5es:\\n\\n2 dormit\\xc3\\xb3rios...</a>\\n                                                    </h4>\\n                                                    <span class=\"address\">S\\xc3\\x83O JOS\\xc3\\x89 DOS PINHAIS - BONECA DO IGUACU</span>\\n                                                    <ul class=\"tl-meta-listed\">\\n                                                        <li>\\n                                                            <svg class=\"icon-bed\">\\n                                                                <title>Quartos</title>\\n                                                                <use xlink:href=\"images/icons.svg#icon-bed\"></use>\\n                                                            </svg>2                                                        </li>\\n                                                        <li>\\n                                                            <svg class=\"icon-car\">\\n                                                                <title>Garagens</title>\\n                                                                <use xlink:href=\"images/icons.svg#icon-car\"></use>\\n                                                            </svg>1                                                        </li>\\n                                                    </ul>\\n                                                </div>\\n                                            </div>\\n                                        </div>\\n                                    </div>\\n\\n                                \\n                                    <div class=\"tl-properties-item tl-properties-list-item\">\\n                                        <div class=\"row\">\\n                                            <div class=\"col-md-5 col-sm-5 col-xs-12\">\\n                                                <figure class=\"tl-properties-thumb\">\\n                                                    <a href=\"comprar-apartamento-curitiba-batel-126406.html\">\\n                                                        <img src=\"https://www.j8.com.br/vista.imobi/fotos/59256/ij8imovei59256_635174.jpg\" alt=\"\">\\n                                                    </a>\\n\\n                                                </figure>\\n                                            </div>\\n                                            <div class=\"col-md-7 col-sm-7 col-xs-12\">\\n                                                <!--Text Holder Start-->\\n                                                <div class=\"tl-text-holder\">\\n                                                    <h3 class=\"price\">R$ 3.900.000,00</h3>\\n                                                    <h4>\\n                                                        <a href=\"comprar-apartamento-curitiba-batel-126406.html\">Apartamentos de alt\\xc3\\xadssimo padr\\xc3\\xa3o desde os acabamentos internos at\\xc3\\xa9 as \\xc3\\xa1reas comuns. localiza\\xc3\\xa7\\xc3\\xa3o impec\\xc3\\xa1vel e pr\\xc3\\xb3ximo de tudo.  - \\xc3\\xa1rea...</a>\\n                                                    </h4>\\n                                                    <span class=\"address\">CURITIBA - BATEL</span>\\n                                                    <ul class=\"tl-meta-listed\">\\n                                                        <li>\\n                                                            <svg class=\"icon-bed\">\\n                                                                <title>Quartos</title>\\n                                                                <use xlink:href=\"images/icons.svg#icon-bed\"></use>\\n                                                            </svg>4                                                        </li>\\n                                                        <li>\\n                                                            <svg class=\"icon-car\">\\n                                                                <title>Garagens</title>\\n                                                                <use xlink:href=\"images/icons.svg#icon-car\"></use>\\n                                                            </svg>4                                                        </li>\\n                                                    </ul>\\n                                                </div>\\n                                            </div>\\n                                        </div>\\n                                    </div>\\n\\n                                \\n                        </div>\\n                        <!--Pagination Start-->\\n\\n                        <div class=\"pagerfanta\">\\n                            <nav><span class=\"current\">1</span><a href=\"/imoveis?nidtbxfin=1&nidtbxtpi=1&nidtagbac=&nidtbxloc=&page=2\">2</a><a href=\"/imoveis?nidtbxfin=1&nidtbxtpi=1&nidtagbac=&nidtbxloc=&page=3\">3</a><span class=\"dots\">...</span><a href=\"/imoveis?nidtbxfin=1&nidtbxtpi=1&nidtagbac=&nidtbxloc=&page=279\">279</a></nav>\\n                        </div>\\n\\n                    \\n                    </div>\\n                </div>\\n            </div>\\n        </div>\\n    </section>\\n</div>\\n                                </div>\\n                            </div>\\n                        </div>\\n                    </section>\\n                    <section class=\"tl-parallax-section\">\\n                        <div class=\"container\">\\n                            <div class=\"col-md-3 col-sm-4 col-xs-12\">\\n                                <div class=\"parallax-fx-img\">\\n                                </div>\\n                            </div>\\n                            <div class=\"col-md-7 col-sm-6 col-xs-12\">\\n                                <div class=\"parallax-info\">\\n                                    <h3>Para Corretores e Imobili\\xc3\\xa1rias</h3>\\n                                    <p>Receba mais contatos divulgando num portal genuinamente curitibano, solicite\\n                                    uma proposta e aproveite o excelente custo beneficio de ser nosso anunciante.</p>\\n                                </div>\\n                            </div>\\n                            <div class=\"col-md-2 col-sm-3 col-xs-12\">\\n                                <a href=\"contato\" class=\"parallax-btn\">Solicite sua Proposta</a>\\n                            </div>\\n                        </div>\\n                    </section>\\n                </div>\\n                <footer class=\"tl-footer\">\\n    <section class=\"tl-call-to-action-section\">\\n        <div class=\"container\">\\n            <div class=\"row\">\\n                <div class=\"col-md-9 col-sm-9 col-xs-12\">\\n                    <h3>\\n                        <svg class=\"icon-thumbs-o-up\" style=\"width: 40px; height: 40px; margin-right: 10px; vertical-align: middle;\">\\n                            <use xlink:href=\"images/icons.svg#icon-thumbs-o-up\"></use>\\n                        </svg><b>J\\xc3\\xa1 Curtiu nossa Fanpage?</b> Aproveite para nos visitar no Facebook.\\n                    </h3>\\n                </div>\\n                <div class=\"col-md-3 col-sm-3 col-xs-12\">\\n                    <a href=\"https://facebook.com/portalimoveiscuritiba\" target=\"_blanck\" class=\"tl-btn-style1\">Acesse Agora</a>\\n                </div>\\n            </div>\\n        </div>\\n    </section>\\n    <section class=\"tl-footer-middle-section pd-t-80\">\\n        <div class=\"container\">\\n            <div class=\"row\">\\n                <div class=\"col-md-3 col-sm-6 col-xs-12\">\\n                    <div class=\"widget widget-about\">\\n                        <h3>O PORTAL</h3>\\n                        <p>O Portal Im\\xc3\\xb3veis Curitiba \\xc3\\xa9 um portal imobili\\xc3\\xa1rio regional com foco total na grande Curitiba, onde voc\\xc3\\xaa encontrar\\xc3\\xa1 im\\xc3\\xb3veis de in\\xc3\\xbameras imobili\\xc3\\xa1rias e\\n                            corretores de toda Curiitba e regi\\xc3\\xa3o metropolitana.</p>\\n                    </div>\\n                    <!--Widget End-->\\n                </div>\\n                <div class=\"col-md-4 col-sm-6 col-xs-12\">\\n                    <div class=\"widget widget-about\">\\n                        <h3>CONTATO</h3>\\n                        <h4>SUPORTE AO ANUNCIANTE</h4>\\n                        <ul class=\"ft-listed\">\\n                            <li>\\n                                <svg class=\"icon-whatsapp\">\\n                                                                        <use xlink:href=\"https://portalimoveiscuritiba.com.br/images/icons.svg#icon-whatsapp\"></use>\\n                                </svg>\\n                                <a target=\"_blank\" href=\"https://web.whatsapp.com/send?phone=5541997918903&text=Estou no Portal Im\\xc3\\xb3veis Curitiba e preciso de suporte:\">\\n                                    +55 41 9 9791-8903 Somente Whatsapp\\n                                </a>\\n                            </li>\\n                            <li>\\n                                <svg class=\"icon-envelope\">\\n                                    <use xlink:href=\"https://portalimoveiscuritiba.com.br/images/icons.svg#icon-envelope\"></use>\\n                                </svg>\\n                                <a href=\"mailto:suporte@webmarketingimobiliario.com.br\">\\n                                    suporte@webmarketingimobiliario.com.br\\n                                </a>\\n                            </li>\\n                        </ul>\\n                    </div>\\n                </div>\\n                <div class=\"col-md-5 col-sm-6 col-xs-12\">\\n                    <div class=\"widget widget-realstate\">\\n                        <h3>SUGEST\\xc3\\x95ES DE IM\\xc3\\x93VEIS EM CURITIBA</h3>\\n                        <p style=\"line-height: 26px;\">\\n                            <a style=\"font-size: 14px; color: #fff\" href=\"imoveis?nidtbxfin=1&nidtbxtpi=1&nidtagbac=13\">Apartamento \\xc3\\x81gua verde</a>\\n                            <a style=\"font-size: 14px; color: #b8c9d6\" href=\"imoveis?nidtbxfin=1&nidtbxtpi=1&nidtagbac=12\">Apartamento Centro</a>\\n                            <a style=\"font-size: 14px; color: #fff\" href=\"imoveis?nidtbxfin=1&nidtbxtpi=1&nidtagbac=60\">Apartamento Port\\xc3\\xa3o</a>\\n                            <a style=\"font-size: 14px; color: #b8c9d6\" href=\"imoveis?nidtbxfin=1&nidtbxtpi=1&nidtagbac=825\">Apartamento Ecoville</a>\\n                            <a style=\"font-size: 14px; color: #fff\" href=\"imoveis?nidtbxfin=1&nidtbxtpi=1&nidtagbac=23\">Apartamento Batel</a>\\n                            <a style=\"font-size: 14px; color: #b8c9d6\" href=\"imoveis?nidtbxfin=1&nidtbxtpi=1&nidtagbac=85\">Apartamento Bigorrilho</a>\\n                            <a style=\"font-size: 14px; color: #fff\" href=\"imoveis?nidtbxfin=1&nidtbxtpi=7&nidtagbac=48\">Sobrado Jardim das Am\\xc3\\xa9ricas</a>\\n                            <a style=\"font-size: 14px; color: #b8c9d6\" href=\"imoveis?nidtbxfin=1&nidtbxtpi=8&nidtagbac=&nidtbxloc=\">Sobrado em condom\\xc3\\xadnio</a>\\n                            <a style=\"font-size: 14px; color: #fff\" href=\"imoveis?nidtbxfin=1&nidtbxtpi=3&nidtagbac=12\">Studio Centro</a>\\n                            <a style=\"font-size: 14px; color: #b8c9d6\" href=\"imoveis?nidtbxfin=1&nidtbxtpi=6&nidtagbac=&nidtbxloc=\">Casa em condom\\xc3\\xadnio</a>\\n                            <a style=\"font-size: 14px; color: #fff\" href=\"imoveis?nidtbxfin=1&nidtbxtpi=5&nidtagbac=65\">Casa Santa Felicidade</a>\\n                            <a style=\"font-size: 14px; color: #b8c9d6\" href=\"imoveis?nidtbxfin=1&nidtbxtpi=15&nidtagbac=&nidtbxloc=\">Loja e Sala Comercial</a>\\n                            <a style=\"font-size: 14px; color: #fff\" href=\"imoveis?nidtbxfin=1&nidtbxtpi=14&nidtagbac=&nidtbxloc=\">Barrac\\xc3\\xa3o Grande Curitiba</a>\\n                            <a style=\"font-size: 14px; color: #b8c9d6\" href=\"imoveis?nidtbxfin=1&nidtbxtpi=9&nidtagbac=79\">Terreno Uberaba</a>\\n                            <a style=\"font-size: 14px; color: #fff\" href=\"imoveis?nidtbxfin=1&nidtbxtpi=&nidtagbac=&nidtbxloc=2781\">Im\\xc3\\xb3veis em Arauc\\xc3\\xa1ria</a>\\n                        </p>\\n                    </div>\\n                </div>\\n            </div>\\n        </div>\\n    </section>\\n    <div class=\"tl-copyright-row\">\\n        <div class=\"container\">\\n            <div class=\"row\">\\n                <div class=\"col-md-6 col-sm-6 col-xs-12\">\\n                    <a style=\"float:left\" href=\"https://portalimoveiscuritiba.com.br/\">\\n                        <img alt=\"portal im\\xc3\\xb3veis curitiba rodape\" title=\"Portal Im\\xc3\\xb3veis Curitiba\" src=\"https://portalimoveiscuritiba.com.br/images/logo-pq-portal-imoveis-curitiba.png\" id=\"logo1\">\\n                    </a>\\n                    <p>Copyright \\xc2\\xa9 2017 Portal Im\\xc3\\xb3veis Curitiba - Todos os direitos reservados.</p>\\n                </div>\\n                <div class=\"col-md-6 col-sm-6 col-xs-12\">\\n                    <ul class=\"top-social-links\">\\n    <li>\\n        <a href=\"https://facebook.com/portalimoveiscuritiba\" target=\"_blank\">\\n            <svg class=\"icon-facebook\">\\n                <use xlink:href=\"https://portalimoveiscuritiba.com.br/images/icons.svg#icon-facebook\"></use>\\n            </svg>\\n        </a>\\n    </li>\\n    <li>\\n        <a href=\"https://twitter.com/pimoveisctba\" target=\"_blank\">\\n            <svg class=\"icon-twitter\">\\n                <use xlink:href=\"https://portalimoveiscuritiba.com.br/images/icons.svg#icon-twitter\"></use>\\n            </svg>\\n        </a>\\n    </li>\\n    <li>\\n        <a href=\"https://portalimoveiscuritiba.com.br/blog\" target=\"_blank\">\\n            <svg class=\"icon-blogger\">\\n                <use xlink:href=\"https://portalimoveiscuritiba.com.br/images/icons.svg#icon-blogger\"></use>\\n            </svg>\\n        </a>\\n    </li>\\n</ul>\\n                </div>\\n            </div>\\n        </div>\\n    </div>\\n</footer>\\n            </div>\\n            <nav id=\"sidebar\">\\n    <a href=\"#\" id=\"closeMenu\">\\n        Fechar [X]\\n    </a>\\n    <ul class=\"list-unstyled components sidebarmenu\">\\n        <li>\\n            <a href=\"https://portalimoveiscuritiba.com.br/\">Home</a>\\n        </li>\\n        <li class=\"active\">\\n            <a href=\"https://portalimoveiscuritiba.com.br/\">Nova Busca</a>\\n        </li>\\n        <li>\\n            <a href=\"portal\">O Portal</a>\\n        </li>\\n        <li>\\n            <a href=\"imobiliarias-em-curitiba-e-regiao\">Anunciantes</a>\\n        </li>\\n        <li>\\n            <a href=\"integracao\">Integra\\xc3\\xa7\\xc3\\xa3o</a>\\n        </li>\\n        <li>\\n            <a href=\"contato\">Anuncie Seu Im\\xc3\\xb3vel</a>\\n        </li>\\n        <li>\\n            <a href=\"nao-achei\">Solicite Um Im\\xc3\\xb3vel</a>\\n        </li>\\n        <li>\\n            <a href=\"contato\">Contato</a>\\n        </li>\\n    </ul>\\n    <br>\\n    <div>\\n        \\n        <a href=\"https://www.facebook.com/sharer/sharer.php?u=https%3A%2F%2Fportalimoveiscuritiba.com.br%2Fimoveis%3Fnidtbxfin%3D1%26nidtbxtpi%3D1%26nidtagbac%3D%26nidtbxloc%3D\" target=\"_blank\">\\n            <div style=\"float:left; background-color: #1877f2; padding: 4px 8px 4px 7px; margin: 3px 7px 3px 64px; border-radius: 4px\">\\n                <div style=\"float: left;\">\\n                    <svg class=\"icon-facebook\">\\n                        <use xlink:href=\"https://portalimoveiscuritiba.com.br/images/icons.svg#icon-facebook\"></use>\\n                    </svg>\\n                </div>\\n                <div style=\"float:left; color: #fff; font-weight: bold; font-size: 13px; font-family: Helvetica, Arial, sans-serif; vertical-align: middle; padding-top:2px; padding-left: 5px;\">\\n                    Compartilhar\\n                </div>\\n            </div>\\n        </a>\\n        <br>\\n        <a href=\"https://web.whatsapp.com/send?text=https%3A%2F%2Fportalimoveiscuritiba.com.br%2Fimoveis%3Fnidtbxfin%3D1%26nidtbxtpi%3D1%26nidtagbac%3D%26nidtbxloc%3D\" target=\"_blank\">\\n            <div style=\"float:left; background-color: #aabd2f; padding: 4px 8px 4px 7px; margin: 3px 7px 3px 64px; border-radius: 4px\">\\n                <div style=\"float: left;\">\\n                    <svg class=\"icon-whatsapp\">\\n                        <use xlink:href=\"https://portalimoveiscuritiba.com.br/images/icons.svg#icon-whatsapp\"></use>\\n                    </svg>\\n                </div>\\n                <div style=\"float:left; color: #fff; font-weight: bold; font-size: 13px; font-family: Helvetica, Arial, sans-serif; vertical-align: middle; padding-top:2px; padding-left: 5px;\">\\n                    Compartilhar\\n                </div>\\n            </div>\\n        </a>\\n    </div>\\n    <br style=\"clear: both\"><br>\\n    <div style=\"width: 48%; margin:auto\">\\n        <ul class=\"top-social-links\">\\n    <li>\\n        <a href=\"https://facebook.com/portalimoveiscuritiba\" target=\"_blank\">\\n            <svg class=\"icon-facebook\">\\n                <use xlink:href=\"https://portalimoveiscuritiba.com.br/images/icons.svg#icon-facebook\"></use>\\n            </svg>\\n        </a>\\n    </li>\\n    <li>\\n        <a href=\"https://twitter.com/pimoveisctba\" target=\"_blank\">\\n            <svg class=\"icon-twitter\">\\n                <use xlink:href=\"https://portalimoveiscuritiba.com.br/images/icons.svg#icon-twitter\"></use>\\n            </svg>\\n        </a>\\n    </li>\\n    <li>\\n        <a href=\"https://portalimoveiscuritiba.com.br/blog\" target=\"_blank\">\\n            <svg class=\"icon-blogger\">\\n                <use xlink:href=\"https://portalimoveiscuritiba.com.br/images/icons.svg#icon-blogger\"></use>\\n            </svg>\\n        </a>\\n    </li>\\n</ul>\\n    </div>\\n</nav>\\n        </div>\\n<script src=\"https://ajax.googleapis.com/ajax/libs/jquery/1.12.4/jquery.min.js\"></script>\\n<script src=\"https://maxcdn.bootstrapcdn.com/bootstrap/3.3.7/js/bootstrap.min.js\" integrity=\"sha384-Tc5IQib027qvyjSMfHjOMaLkfuWVxZxUPnCJA7l2mCWNIpG9mGCD8wGNIcPD7Txa\" crossorigin=\"anonymous\"></script>\\n<script type=\"text/javascript\">\\n$(document).ready(function () {\\n\\n    $(\\'#sidebarCollapse\\').on(\\'click\\', function () {\\n        $(\\'#sidebar\\').toggleClass(\\'active\\');\\n    });\\n\\n    $(\\'#closeMenu\\').on(\\'click\\', function () {\\n        // hide sidebar\\n        $(\\'#sidebar\\').removeClass(\\'active\\');\\n    });\\n\\n});\\n</script>\\n</script><script type=\"text/javascript\">\\n    //<!--\\n\\n          var _gaq = _gaq || [];\\n          _gaq.push([\\'_setAccount\\', \\'UA-37657436-1\\']);\\n          _gaq.push([\\'_setDomainName\\', \\'portalimoveiscuritiba.com.br\\']);\\n\\n          _gaq.push([\\'_trackPageview\\']);\\n\\n          (function() {\\n            var ga = document.createElement(\\'script\\'); ga.type = \\'text/javascript\\'; ga.async = true;\\n            ga.src = (\\'https:\\' == document.location.protocol ? \\'https://ssl\\' : \\'http://www\\') + \\'.google-analytics.com/ga.js\\';\\n            var s = document.getElementsByTagName(\\'script\\')[0]; s.parentNode.insertBefore(ga, s);\\n          })();\\n            //-->\\n</script>    </body>\\n</html>'\n"
     ]
    }
   ],
   "source": [
    "# atribuindo site para variável\n",
    "url = \"https://portalimoveiscuritiba.com.br/imoveis?nidtbxfin=1&nidtbxtpi=1&nidtagbac=&nidtbxloc=\"\n",
    "\n",
    "# teste de erros\n",
    "headers = {'User-Agent': 'Mozilla/5.0 (Windows NT 10.0; Win64; x64) AppleWebKit/537.36 (KHTML, like Gecko) Chrome/76.0.3809.100 Safari/537.36'}\n",
    "\n",
    "try:\n",
    "    req = Request(url, headers = headers)\n",
    "    response = urlopen(req, timeout=20)\n",
    "    print(response.read())\n",
    "\n",
    "except HTTPError as e:\n",
    "    print(e.status, e.reason)\n",
    "\n",
    "except URLError as e:\n",
    "    print(e.reason)"
   ]
  },
  {
   "cell_type": "markdown",
   "id": "b3a6dd46",
   "metadata": {},
   "source": [
    "A conexão foi estabelecida sem erros."
   ]
  },
  {
   "cell_type": "markdown",
   "id": "e16f6eb7",
   "metadata": {},
   "source": [
    "# Scraping"
   ]
  },
  {
   "cell_type": "code",
   "execution_count": 4,
   "id": "c9faad0e",
   "metadata": {},
   "outputs": [],
   "source": [
    "# obtendo dados da HTML\n",
    "response = urlopen(url, timeout=20) \n",
    "html = response.read().decode('utf-8') \n",
    "\n",
    "# tratamento de dados da html: eliminar espaços entre as TAGs\n",
    "html = \" \".join(html.split()).replace('> <', '><')\n",
    "\n",
    "# criação do objeto BeautifulSoup\n",
    "soup = BeautifulSoup(html, 'html.parser')\n",
    "pages = int(soup.find('div', class_='pagerfanta').get_text().split()[-1].split('...')[-1])\n",
    "\n",
    "# declarando variável cards que armazenará conteúdo do dataset\n",
    "cards = []\n",
    "\n",
    "# iterando todas as páginas do site\n",
    "for i in range(pages):\n",
    "    \n",
    "    # obtendo o HTML\n",
    "    response = urlopen('https://portalimoveiscuritiba.com.br/imoveis?nidtbxfin=1&nidtbxtpi=1&nidtagbac=&nidtbxloc=&page=' + str(i + 1))\n",
    "    html = response.read().decode('utf-8')\n",
    "    soup = BeautifulSoup(html, 'html.parser')\n",
    "    \n",
    "    # obtendo as TAGs de interesse: todos os imóveis anunciados\n",
    "    ads = soup.find('div', class_=\"tl-filterOuter\").findAll('div', class_=\"row\")\n",
    "    \n",
    "    for ad in ads:\n",
    "        card = {}\n",
    "\n",
    "        # Valor\n",
    "        card['price'] = ad.find('h3', {'class': 'price'}).getText()\n",
    "\n",
    "        # Localização\n",
    "        address = ad.find('span', {'class': 'address'}).getText().split(' - ')\n",
    "        card['city'] = address[0].lower()\n",
    "        card['neighborhood'] = address[-1].lower()\n",
    "        \n",
    "        # Quartos e Garagens\n",
    "        info = ad.find('ul', {'class': 'tl-meta-listed'}).get_text().split()\n",
    "        card['bedrooms'] = info[1]\n",
    "        card['garage'] = info[-1]\n",
    "        \n",
    "        # Adicionando resultado à lista cards\n",
    "        cards.append(card)    "
   ]
  },
  {
   "cell_type": "markdown",
   "id": "2d06bd24",
   "metadata": {},
   "source": [
    "# Ficheiro CSV"
   ]
  },
  {
   "cell_type": "code",
   "execution_count": 5,
   "id": "8c866551",
   "metadata": {},
   "outputs": [],
   "source": [
    "# criando um DataFrame com os resultados\n",
    "df = pd.DataFrame(cards)\n",
    "\n",
    "# tratando os dados: registros ausentes no site serão padronizados para None\n",
    "df['bedrooms'][df['bedrooms'] == 'Garagens'] = np.nan\n",
    "df['garage'][df['garage'] == 'Garagens'] = np.nan"
   ]
  },
  {
   "cell_type": "code",
   "execution_count": 6,
   "id": "9615c236",
   "metadata": {},
   "outputs": [
    {
     "data": {
      "text/plain": [
       "2781"
      ]
     },
     "execution_count": 6,
     "metadata": {},
     "output_type": "execute_result"
    }
   ],
   "source": [
    "# quantidade de cards obtidos \n",
    "len(cards)"
   ]
  },
  {
   "cell_type": "code",
   "execution_count": 7,
   "id": "3d6ac418",
   "metadata": {},
   "outputs": [
    {
     "data": {
      "text/plain": [
       "(2781, 5)"
      ]
     },
     "execution_count": 7,
     "metadata": {},
     "output_type": "execute_result"
    }
   ],
   "source": [
    "# quantidade de linhas e colunas do dataset\n",
    "df.shape"
   ]
  },
  {
   "cell_type": "code",
   "execution_count": 8,
   "id": "58fde082",
   "metadata": {},
   "outputs": [],
   "source": [
    "# tratamento e conversão da coluna 'price'\n",
    "df['price'] = df['price'].replace('[R\\$\\.\\,]', '', regex=True).astype(float)\n",
    "\n",
    "# cortando as casas decimais de valores \n",
    "df['price'] = df['price'] / 100\n",
    "\n",
    "# transformando em inteiros\n",
    "df['price'] = df['price'].astype(int)"
   ]
  },
  {
   "cell_type": "code",
   "execution_count": 9,
   "id": "bcfac484",
   "metadata": {},
   "outputs": [
    {
     "data": {
      "text/html": [
       "<div>\n",
       "<style scoped>\n",
       "    .dataframe tbody tr th:only-of-type {\n",
       "        vertical-align: middle;\n",
       "    }\n",
       "\n",
       "    .dataframe tbody tr th {\n",
       "        vertical-align: top;\n",
       "    }\n",
       "\n",
       "    .dataframe thead th {\n",
       "        text-align: right;\n",
       "    }\n",
       "</style>\n",
       "<table border=\"1\" class=\"dataframe\">\n",
       "  <thead>\n",
       "    <tr style=\"text-align: right;\">\n",
       "      <th></th>\n",
       "      <th>price</th>\n",
       "      <th>city</th>\n",
       "      <th>neighborhood</th>\n",
       "      <th>bedrooms</th>\n",
       "      <th>garage</th>\n",
       "    </tr>\n",
       "  </thead>\n",
       "  <tbody>\n",
       "    <tr>\n",
       "      <th>0</th>\n",
       "      <td>189000</td>\n",
       "      <td>araucária</td>\n",
       "      <td>iguaçu</td>\n",
       "      <td>2</td>\n",
       "      <td>1</td>\n",
       "    </tr>\n",
       "    <tr>\n",
       "      <th>1</th>\n",
       "      <td>310000</td>\n",
       "      <td>araucária</td>\n",
       "      <td>centro</td>\n",
       "      <td>2</td>\n",
       "      <td>1</td>\n",
       "    </tr>\n",
       "    <tr>\n",
       "      <th>2</th>\n",
       "      <td>194000</td>\n",
       "      <td>curitiba</td>\n",
       "      <td>santa cândida</td>\n",
       "      <td>2</td>\n",
       "      <td>1</td>\n",
       "    </tr>\n",
       "    <tr>\n",
       "      <th>3</th>\n",
       "      <td>3850000</td>\n",
       "      <td>curitiba</td>\n",
       "      <td>ecoville</td>\n",
       "      <td>4</td>\n",
       "      <td>4</td>\n",
       "    </tr>\n",
       "    <tr>\n",
       "      <th>4</th>\n",
       "      <td>2745000</td>\n",
       "      <td>curitiba</td>\n",
       "      <td>ecoville</td>\n",
       "      <td>3</td>\n",
       "      <td>4</td>\n",
       "    </tr>\n",
       "    <tr>\n",
       "      <th>...</th>\n",
       "      <td>...</td>\n",
       "      <td>...</td>\n",
       "      <td>...</td>\n",
       "      <td>...</td>\n",
       "      <td>...</td>\n",
       "    </tr>\n",
       "    <tr>\n",
       "      <th>2776</th>\n",
       "      <td>585000</td>\n",
       "      <td>curitiba</td>\n",
       "      <td>são francisco</td>\n",
       "      <td>2</td>\n",
       "      <td>2</td>\n",
       "    </tr>\n",
       "    <tr>\n",
       "      <th>2777</th>\n",
       "      <td>1050000</td>\n",
       "      <td>curitiba</td>\n",
       "      <td>água verde</td>\n",
       "      <td>3</td>\n",
       "      <td>2</td>\n",
       "    </tr>\n",
       "    <tr>\n",
       "      <th>2778</th>\n",
       "      <td>1271328</td>\n",
       "      <td>curitiba</td>\n",
       "      <td>mercês</td>\n",
       "      <td>3</td>\n",
       "      <td>2</td>\n",
       "    </tr>\n",
       "    <tr>\n",
       "      <th>2779</th>\n",
       "      <td>3350000</td>\n",
       "      <td>curitiba</td>\n",
       "      <td>cabral</td>\n",
       "      <td>4</td>\n",
       "      <td>5</td>\n",
       "    </tr>\n",
       "    <tr>\n",
       "      <th>2780</th>\n",
       "      <td>140000</td>\n",
       "      <td>curitiba</td>\n",
       "      <td>cidade industrial de curitiba</td>\n",
       "      <td>3</td>\n",
       "      <td>1</td>\n",
       "    </tr>\n",
       "  </tbody>\n",
       "</table>\n",
       "<p>2781 rows × 5 columns</p>\n",
       "</div>"
      ],
      "text/plain": [
       "        price       city                   neighborhood bedrooms garage\n",
       "0      189000  araucária                         iguaçu        2      1\n",
       "1      310000  araucária                         centro        2      1\n",
       "2      194000   curitiba                  santa cândida        2      1\n",
       "3     3850000   curitiba                       ecoville        4      4\n",
       "4     2745000   curitiba                       ecoville        3      4\n",
       "...       ...        ...                            ...      ...    ...\n",
       "2776   585000   curitiba                  são francisco        2      2\n",
       "2777  1050000   curitiba                     água verde        3      2\n",
       "2778  1271328   curitiba                         mercês        3      2\n",
       "2779  3350000   curitiba                         cabral        4      5\n",
       "2780   140000   curitiba  cidade industrial de curitiba        3      1\n",
       "\n",
       "[2781 rows x 5 columns]"
      ]
     },
     "execution_count": 9,
     "metadata": {},
     "output_type": "execute_result"
    }
   ],
   "source": [
    "# visualização do dataset\n",
    "df"
   ]
  },
  {
   "cell_type": "code",
   "execution_count": 10,
   "id": "6deded97",
   "metadata": {},
   "outputs": [
    {
     "name": "stdout",
     "output_type": "stream",
     "text": [
      "<class 'pandas.core.frame.DataFrame'>\n",
      "RangeIndex: 2781 entries, 0 to 2780\n",
      "Data columns (total 5 columns):\n",
      " #   Column        Non-Null Count  Dtype \n",
      "---  ------        --------------  ----- \n",
      " 0   price         2781 non-null   int32 \n",
      " 1   city          2781 non-null   object\n",
      " 2   neighborhood  2781 non-null   object\n",
      " 3   bedrooms      2746 non-null   object\n",
      " 4   garage        2654 non-null   object\n",
      "dtypes: int32(1), object(4)\n",
      "memory usage: 97.9+ KB\n"
     ]
    }
   ],
   "source": [
    "# informações sobre o dataset\n",
    "df.info()"
   ]
  },
  {
   "cell_type": "markdown",
   "id": "e35d99e7",
   "metadata": {},
   "source": [
    "## Pedido 1. O ficheiro 'dataset_todos_imoveis.cvs' contém os imóveis disponíveis no site."
   ]
  },
  {
   "cell_type": "code",
   "execution_count": 11,
   "id": "cf6ce94e",
   "metadata": {},
   "outputs": [],
   "source": [
    "# salvando o dataset em um ficheiro CSV\n",
    "df.to_csv('./dataset_todos_imoveis222.csv', sep=';', index = False, encoding = 'utf-8-sig')"
   ]
  },
  {
   "cell_type": "markdown",
   "id": "7a3b8eae",
   "metadata": {},
   "source": [
    "# PARTE 2: ANÁLISE EXPLORATÓRIA"
   ]
  },
  {
   "cell_type": "code",
   "execution_count": 3,
   "id": "94e72a76",
   "metadata": {},
   "outputs": [
    {
     "data": {
      "text/html": [
       "<div>\n",
       "<style scoped>\n",
       "    .dataframe tbody tr th:only-of-type {\n",
       "        vertical-align: middle;\n",
       "    }\n",
       "\n",
       "    .dataframe tbody tr th {\n",
       "        vertical-align: top;\n",
       "    }\n",
       "\n",
       "    .dataframe thead th {\n",
       "        text-align: right;\n",
       "    }\n",
       "</style>\n",
       "<table border=\"1\" class=\"dataframe\">\n",
       "  <thead>\n",
       "    <tr style=\"text-align: right;\">\n",
       "      <th></th>\n",
       "      <th>price</th>\n",
       "      <th>city</th>\n",
       "      <th>neighborhood</th>\n",
       "      <th>bedrooms</th>\n",
       "      <th>garage</th>\n",
       "    </tr>\n",
       "  </thead>\n",
       "  <tbody>\n",
       "    <tr>\n",
       "      <th>0</th>\n",
       "      <td>189000</td>\n",
       "      <td>araucária</td>\n",
       "      <td>iguaçu</td>\n",
       "      <td>2.0</td>\n",
       "      <td>1.0</td>\n",
       "    </tr>\n",
       "    <tr>\n",
       "      <th>1</th>\n",
       "      <td>310000</td>\n",
       "      <td>araucária</td>\n",
       "      <td>centro</td>\n",
       "      <td>2.0</td>\n",
       "      <td>1.0</td>\n",
       "    </tr>\n",
       "    <tr>\n",
       "      <th>2</th>\n",
       "      <td>194000</td>\n",
       "      <td>curitiba</td>\n",
       "      <td>santa cândida</td>\n",
       "      <td>2.0</td>\n",
       "      <td>1.0</td>\n",
       "    </tr>\n",
       "    <tr>\n",
       "      <th>3</th>\n",
       "      <td>3850000</td>\n",
       "      <td>curitiba</td>\n",
       "      <td>ecoville</td>\n",
       "      <td>4.0</td>\n",
       "      <td>4.0</td>\n",
       "    </tr>\n",
       "    <tr>\n",
       "      <th>4</th>\n",
       "      <td>2745000</td>\n",
       "      <td>curitiba</td>\n",
       "      <td>ecoville</td>\n",
       "      <td>3.0</td>\n",
       "      <td>4.0</td>\n",
       "    </tr>\n",
       "  </tbody>\n",
       "</table>\n",
       "</div>"
      ],
      "text/plain": [
       "     price       city   neighborhood  bedrooms  garage\n",
       "0   189000  araucária         iguaçu       2.0     1.0\n",
       "1   310000  araucária         centro       2.0     1.0\n",
       "2   194000   curitiba  santa cândida       2.0     1.0\n",
       "3  3850000   curitiba       ecoville       4.0     4.0\n",
       "4  2745000   curitiba       ecoville       3.0     4.0"
      ]
     },
     "execution_count": 3,
     "metadata": {},
     "output_type": "execute_result"
    }
   ],
   "source": [
    "# carregando o dataset salvo\n",
    "df = pd.read_csv('./dataset_todos_imoveis.csv', sep=';')\n",
    "\n",
    "# visualização das primeiras linhas do dataset\n",
    "df.head()"
   ]
  },
  {
   "cell_type": "code",
   "execution_count": 4,
   "id": "76fa2db9",
   "metadata": {},
   "outputs": [
    {
     "data": {
      "text/plain": [
       "curitiba                 2375\n",
       "são josé dos pinhais      188\n",
       "araucária                 163\n",
       "colombo                    24\n",
       "pinhais                     8\n",
       "fazenda rio grande          7\n",
       "campo largo                 7\n",
       "almirante tamandaré         4\n",
       "piraquara                   2\n",
       "quatro barras               1\n",
       "contenda                    1\n",
       "campina grande do sul       1\n",
       "Name: city, dtype: int64"
      ]
     },
     "execution_count": 4,
     "metadata": {},
     "output_type": "execute_result"
    }
   ],
   "source": [
    "# selecionando apenas imóveis de Curitiba\n",
    "df.city.value_counts()"
   ]
  },
  {
   "cell_type": "code",
   "execution_count": 5,
   "id": "a4e2153f",
   "metadata": {},
   "outputs": [
    {
     "data": {
      "text/plain": [
       "curitiba    2375\n",
       "Name: city, dtype: int64"
      ]
     },
     "execution_count": 5,
     "metadata": {},
     "output_type": "execute_result"
    }
   ],
   "source": [
    "# removendo imóveis que não são de Curitiba\n",
    "df = df.loc[lambda df: df['city'] == 'curitiba', :]\n",
    "\n",
    "# contagem de imóveis de Curitiba \n",
    "df.city.value_counts()"
   ]
  },
  {
   "cell_type": "markdown",
   "id": "194bc9c4",
   "metadata": {},
   "source": [
    "# Tratamento dos dados nulos"
   ]
  },
  {
   "cell_type": "code",
   "execution_count": 6,
   "id": "cc5a02b5",
   "metadata": {},
   "outputs": [
    {
     "data": {
      "text/plain": [
       "price            0\n",
       "city             0\n",
       "neighborhood     0\n",
       "bedrooms        29\n",
       "garage          98\n",
       "dtype: int64"
      ]
     },
     "execution_count": 6,
     "metadata": {},
     "output_type": "execute_result"
    }
   ],
   "source": [
    "# verificando dados nulos no dataframe\n",
    "df.isnull().sum()"
   ]
  },
  {
   "cell_type": "code",
   "execution_count": 7,
   "id": "550f0a6c",
   "metadata": {},
   "outputs": [
    {
     "name": "stdout",
     "output_type": "stream",
     "text": [
      "2\n"
     ]
    }
   ],
   "source": [
    "# criando um dataframe temporário sem linhas com quartos com valor nulo\n",
    "df_temp = df[df['bedrooms'].notna()]\n",
    "\n",
    "# média de quartos em dataframe temporário\n",
    "bedrooms_mean = df_temp['bedrooms'].astype(int).mean()\n",
    "\n",
    "# convertendo média para inteiros\n",
    "bedrooms_mean = int(bedrooms_mean)\n",
    "print(bedrooms_mean)"
   ]
  },
  {
   "cell_type": "code",
   "execution_count": 8,
   "id": "b987cb69",
   "metadata": {},
   "outputs": [],
   "source": [
    "# preenchendo valores nulos de quartos com média do dataframe\n",
    "df['bedrooms'].fillna(bedrooms_mean, inplace =True)"
   ]
  },
  {
   "cell_type": "code",
   "execution_count": 9,
   "id": "fcdb8995",
   "metadata": {},
   "outputs": [
    {
     "data": {
      "text/html": [
       "<div>\n",
       "<style scoped>\n",
       "    .dataframe tbody tr th:only-of-type {\n",
       "        vertical-align: middle;\n",
       "    }\n",
       "\n",
       "    .dataframe tbody tr th {\n",
       "        vertical-align: top;\n",
       "    }\n",
       "\n",
       "    .dataframe thead th {\n",
       "        text-align: right;\n",
       "    }\n",
       "</style>\n",
       "<table border=\"1\" class=\"dataframe\">\n",
       "  <thead>\n",
       "    <tr style=\"text-align: right;\">\n",
       "      <th></th>\n",
       "      <th>price</th>\n",
       "      <th>city</th>\n",
       "      <th>neighborhood</th>\n",
       "      <th>bedrooms</th>\n",
       "      <th>garage</th>\n",
       "    </tr>\n",
       "  </thead>\n",
       "  <tbody>\n",
       "    <tr>\n",
       "      <th>2</th>\n",
       "      <td>194000</td>\n",
       "      <td>curitiba</td>\n",
       "      <td>santa cândida</td>\n",
       "      <td>2.0</td>\n",
       "      <td>1.0</td>\n",
       "    </tr>\n",
       "    <tr>\n",
       "      <th>3</th>\n",
       "      <td>3850000</td>\n",
       "      <td>curitiba</td>\n",
       "      <td>ecoville</td>\n",
       "      <td>4.0</td>\n",
       "      <td>4.0</td>\n",
       "    </tr>\n",
       "    <tr>\n",
       "      <th>4</th>\n",
       "      <td>2745000</td>\n",
       "      <td>curitiba</td>\n",
       "      <td>ecoville</td>\n",
       "      <td>3.0</td>\n",
       "      <td>4.0</td>\n",
       "    </tr>\n",
       "    <tr>\n",
       "      <th>5</th>\n",
       "      <td>3032000</td>\n",
       "      <td>curitiba</td>\n",
       "      <td>ecoville</td>\n",
       "      <td>3.0</td>\n",
       "      <td>4.0</td>\n",
       "    </tr>\n",
       "    <tr>\n",
       "      <th>6</th>\n",
       "      <td>1640000</td>\n",
       "      <td>curitiba</td>\n",
       "      <td>champagnat</td>\n",
       "      <td>3.0</td>\n",
       "      <td>3.0</td>\n",
       "    </tr>\n",
       "  </tbody>\n",
       "</table>\n",
       "</div>"
      ],
      "text/plain": [
       "     price      city   neighborhood  bedrooms  garage\n",
       "2   194000  curitiba  santa cândida       2.0     1.0\n",
       "3  3850000  curitiba       ecoville       4.0     4.0\n",
       "4  2745000  curitiba       ecoville       3.0     4.0\n",
       "5  3032000  curitiba       ecoville       3.0     4.0\n",
       "6  1640000  curitiba     champagnat       3.0     3.0"
      ]
     },
     "execution_count": 9,
     "metadata": {},
     "output_type": "execute_result"
    }
   ],
   "source": [
    "df.head()"
   ]
  },
  {
   "cell_type": "code",
   "execution_count": 10,
   "id": "341f0405",
   "metadata": {},
   "outputs": [
    {
     "data": {
      "text/plain": [
       "price            0\n",
       "city             0\n",
       "neighborhood     0\n",
       "bedrooms         0\n",
       "garage          98\n",
       "dtype: int64"
      ]
     },
     "execution_count": 10,
     "metadata": {},
     "output_type": "execute_result"
    }
   ],
   "source": [
    "df.isnull().sum()"
   ]
  },
  {
   "cell_type": "code",
   "execution_count": 11,
   "id": "c5e42d49",
   "metadata": {},
   "outputs": [
    {
     "name": "stdout",
     "output_type": "stream",
     "text": [
      "<class 'pandas.core.frame.DataFrame'>\n",
      "Int64Index: 2375 entries, 2 to 2780\n",
      "Data columns (total 5 columns):\n",
      " #   Column        Non-Null Count  Dtype  \n",
      "---  ------        --------------  -----  \n",
      " 0   price         2375 non-null   int64  \n",
      " 1   city          2375 non-null   object \n",
      " 2   neighborhood  2375 non-null   object \n",
      " 3   bedrooms      2375 non-null   float64\n",
      " 4   garage        2277 non-null   float64\n",
      "dtypes: float64(2), int64(1), object(2)\n",
      "memory usage: 111.3+ KB\n"
     ]
    }
   ],
   "source": [
    "df.info()"
   ]
  },
  {
   "cell_type": "code",
   "execution_count": 12,
   "id": "86d93959",
   "metadata": {
    "scrolled": true
   },
   "outputs": [],
   "source": [
    "df['bedrooms'] = df['bedrooms'].astype(int)\n"
   ]
  },
  {
   "cell_type": "code",
   "execution_count": 13,
   "id": "30cd88fa",
   "metadata": {},
   "outputs": [
    {
     "data": {
      "text/html": [
       "<div>\n",
       "<style scoped>\n",
       "    .dataframe tbody tr th:only-of-type {\n",
       "        vertical-align: middle;\n",
       "    }\n",
       "\n",
       "    .dataframe tbody tr th {\n",
       "        vertical-align: top;\n",
       "    }\n",
       "\n",
       "    .dataframe thead th {\n",
       "        text-align: right;\n",
       "    }\n",
       "</style>\n",
       "<table border=\"1\" class=\"dataframe\">\n",
       "  <thead>\n",
       "    <tr style=\"text-align: right;\">\n",
       "      <th></th>\n",
       "      <th>price</th>\n",
       "      <th>bedrooms</th>\n",
       "      <th>garage</th>\n",
       "    </tr>\n",
       "  </thead>\n",
       "  <tbody>\n",
       "    <tr>\n",
       "      <th>price</th>\n",
       "      <td>1.000000</td>\n",
       "      <td>0.021670</td>\n",
       "      <td>0.024353</td>\n",
       "    </tr>\n",
       "    <tr>\n",
       "      <th>bedrooms</th>\n",
       "      <td>0.021670</td>\n",
       "      <td>1.000000</td>\n",
       "      <td>0.598698</td>\n",
       "    </tr>\n",
       "    <tr>\n",
       "      <th>garage</th>\n",
       "      <td>0.024353</td>\n",
       "      <td>0.598698</td>\n",
       "      <td>1.000000</td>\n",
       "    </tr>\n",
       "  </tbody>\n",
       "</table>\n",
       "</div>"
      ],
      "text/plain": [
       "             price  bedrooms    garage\n",
       "price     1.000000  0.021670  0.024353\n",
       "bedrooms  0.021670  1.000000  0.598698\n",
       "garage    0.024353  0.598698  1.000000"
      ]
     },
     "execution_count": 13,
     "metadata": {},
     "output_type": "execute_result"
    }
   ],
   "source": [
    "# transformação da str 'garage' em float\n",
    "df['garage'] = df['garage'].astype(float)\n",
    "\n",
    "#observação de correlações\n",
    "df.corr()"
   ]
  },
  {
   "cell_type": "code",
   "execution_count": 14,
   "id": "538eae83",
   "metadata": {},
   "outputs": [
    {
     "name": "stdout",
     "output_type": "stream",
     "text": [
      "A taxa de garagens por quartos do dataset é: 0.6750931777669745\n",
      "Os valores nulos em garagem serão preenchidos em função do número de quartos do imóvel.\n",
      "O número de valores nulos em df é: 0\n"
     ]
    }
   ],
   "source": [
    "# calculando a taxa de proporção de espaços de garagem em função do número de quartos dos imóveis\n",
    "garage_rate = df['garage'].sum()/df['bedrooms'].sum()\n",
    "\n",
    "print('A taxa de garagens por quartos do dataset é:', garage_rate)\n",
    "\n",
    "# utilizando a taxa para substituir valores nulos\n",
    "print('Os valores nulos em garagem serão preenchidos em função do número de quartos do imóvel.')\n",
    "df['garage'].fillna((df['bedrooms']*garage_rate).round(), inplace = True)\n",
    "\n",
    "print('O número de valores nulos em df é:', df.isnull().sum().sum())"
   ]
  },
  {
   "cell_type": "code",
   "execution_count": 15,
   "id": "1100ed45",
   "metadata": {},
   "outputs": [
    {
     "name": "stdout",
     "output_type": "stream",
     "text": [
      "<class 'pandas.core.frame.DataFrame'>\n",
      "Int64Index: 2375 entries, 2 to 2780\n",
      "Data columns (total 5 columns):\n",
      " #   Column        Non-Null Count  Dtype  \n",
      "---  ------        --------------  -----  \n",
      " 0   price         2375 non-null   int64  \n",
      " 1   city          2375 non-null   object \n",
      " 2   neighborhood  2375 non-null   object \n",
      " 3   bedrooms      2375 non-null   int32  \n",
      " 4   garage        2375 non-null   float64\n",
      "dtypes: float64(1), int32(1), int64(1), object(2)\n",
      "memory usage: 102.1+ KB\n"
     ]
    }
   ],
   "source": [
    "df.info()"
   ]
  },
  {
   "cell_type": "code",
   "execution_count": 16,
   "id": "de1439f7",
   "metadata": {},
   "outputs": [
    {
     "data": {
      "text/plain": [
       "<AxesSubplot:xlabel='price'>"
      ]
     },
     "execution_count": 16,
     "metadata": {},
     "output_type": "execute_result"
    },
    {
     "data": {
      "image/png": "[encoded data removed]",
      "text/plain": [
       "<Figure size 432x288 with 1 Axes>"
      ]
     },
     "metadata": {},
     "output_type": "display_data"
    }
   ],
   "source": [
    "sns.boxplot(x='price',\n",
    "            data=df,\n",
    "            orient='h',\n",
    "            width=0.3)"
   ]
  },
  {
   "cell_type": "code",
   "execution_count": 17,
   "id": "c8799ed0",
   "metadata": {},
   "outputs": [
    {
     "data": {
      "text/plain": [
       "count         2375.0\n",
       "mean       1538531.0\n",
       "std       17426822.0\n",
       "min              0.0\n",
       "25%         350000.0\n",
       "50%         729568.0\n",
       "75%        1350000.0\n",
       "max      847515100.0\n",
       "Name: price, dtype: float64"
      ]
     },
     "execution_count": 17,
     "metadata": {},
     "output_type": "execute_result"
    }
   ],
   "source": [
    "df['price'].describe().round()"
   ]
  },
  {
   "cell_type": "markdown",
   "id": "11985b23",
   "metadata": {},
   "source": [
    "## Excluindo os outliers da variável dependente"
   ]
  },
  {
   "cell_type": "code",
   "execution_count": 18,
   "id": "f88c8161",
   "metadata": {},
   "outputs": [],
   "source": [
    "# excluindo imóveis com preço igual a zero\n",
    "df = df.drop(df[df.price == 0].index)\n",
    "\n",
    "# excluindo o imóvel com preço muito acima do resto\n",
    "df = df.drop(df[df.price > 800000000].index)"
   ]
  },
  {
   "cell_type": "code",
   "execution_count": 19,
   "id": "c0bebd1c",
   "metadata": {},
   "outputs": [
    {
     "data": {
      "text/html": [
       "<div>\n",
       "<style scoped>\n",
       "    .dataframe tbody tr th:only-of-type {\n",
       "        vertical-align: middle;\n",
       "    }\n",
       "\n",
       "    .dataframe tbody tr th {\n",
       "        vertical-align: top;\n",
       "    }\n",
       "\n",
       "    .dataframe thead th {\n",
       "        text-align: right;\n",
       "    }\n",
       "</style>\n",
       "<table border=\"1\" class=\"dataframe\">\n",
       "  <thead>\n",
       "    <tr style=\"text-align: right;\">\n",
       "      <th></th>\n",
       "      <th>price</th>\n",
       "      <th>city</th>\n",
       "      <th>neighborhood</th>\n",
       "      <th>bedrooms</th>\n",
       "      <th>garage</th>\n",
       "    </tr>\n",
       "  </thead>\n",
       "  <tbody>\n",
       "    <tr>\n",
       "      <th>0</th>\n",
       "      <td>194000</td>\n",
       "      <td>curitiba</td>\n",
       "      <td>santa cândida</td>\n",
       "      <td>2</td>\n",
       "      <td>1.0</td>\n",
       "    </tr>\n",
       "    <tr>\n",
       "      <th>1</th>\n",
       "      <td>3850000</td>\n",
       "      <td>curitiba</td>\n",
       "      <td>ecoville</td>\n",
       "      <td>4</td>\n",
       "      <td>4.0</td>\n",
       "    </tr>\n",
       "    <tr>\n",
       "      <th>2</th>\n",
       "      <td>2745000</td>\n",
       "      <td>curitiba</td>\n",
       "      <td>ecoville</td>\n",
       "      <td>3</td>\n",
       "      <td>4.0</td>\n",
       "    </tr>\n",
       "    <tr>\n",
       "      <th>3</th>\n",
       "      <td>3032000</td>\n",
       "      <td>curitiba</td>\n",
       "      <td>ecoville</td>\n",
       "      <td>3</td>\n",
       "      <td>4.0</td>\n",
       "    </tr>\n",
       "    <tr>\n",
       "      <th>4</th>\n",
       "      <td>1640000</td>\n",
       "      <td>curitiba</td>\n",
       "      <td>champagnat</td>\n",
       "      <td>3</td>\n",
       "      <td>3.0</td>\n",
       "    </tr>\n",
       "  </tbody>\n",
       "</table>\n",
       "</div>"
      ],
      "text/plain": [
       "     price      city   neighborhood  bedrooms  garage\n",
       "0   194000  curitiba  santa cândida         2     1.0\n",
       "1  3850000  curitiba       ecoville         4     4.0\n",
       "2  2745000  curitiba       ecoville         3     4.0\n",
       "3  3032000  curitiba       ecoville         3     4.0\n",
       "4  1640000  curitiba     champagnat         3     3.0"
      ]
     },
     "execution_count": 19,
     "metadata": {},
     "output_type": "execute_result"
    }
   ],
   "source": [
    "# organizando o index\n",
    "df.reset_index(drop=True, inplace=True)\n",
    "df.head()"
   ]
  },
  {
   "cell_type": "code",
   "execution_count": 20,
   "id": "754f1231",
   "metadata": {},
   "outputs": [
    {
     "data": {
      "text/plain": [
       "<AxesSubplot:xlabel='price'>"
      ]
     },
     "execution_count": 20,
     "metadata": {},
     "output_type": "execute_result"
    },
    {
     "data": {
      "image/png": "[encoded data removed]",
      "text/plain": [
       "<Figure size 432x288 with 1 Axes>"
      ]
     },
     "metadata": {},
     "output_type": "display_data"
    }
   ],
   "source": [
    "sns.boxplot(x='price',\n",
    "            data=df,\n",
    "            orient='h',\n",
    "            width=0.3)"
   ]
  },
  {
   "cell_type": "code",
   "execution_count": 21,
   "id": "62101564",
   "metadata": {},
   "outputs": [
    {
     "data": {
      "text/html": [
       "<div>\n",
       "<style scoped>\n",
       "    .dataframe tbody tr th:only-of-type {\n",
       "        vertical-align: middle;\n",
       "    }\n",
       "\n",
       "    .dataframe tbody tr th {\n",
       "        vertical-align: top;\n",
       "    }\n",
       "\n",
       "    .dataframe thead th {\n",
       "        text-align: right;\n",
       "    }\n",
       "</style>\n",
       "<table border=\"1\" class=\"dataframe\">\n",
       "  <thead>\n",
       "    <tr style=\"text-align: right;\">\n",
       "      <th></th>\n",
       "      <th>price</th>\n",
       "      <th>bedrooms</th>\n",
       "      <th>garage</th>\n",
       "    </tr>\n",
       "  </thead>\n",
       "  <tbody>\n",
       "    <tr>\n",
       "      <th>count</th>\n",
       "      <td>2366.0</td>\n",
       "      <td>2366.0</td>\n",
       "      <td>2366.0</td>\n",
       "    </tr>\n",
       "    <tr>\n",
       "      <th>mean</th>\n",
       "      <td>1186178.0</td>\n",
       "      <td>3.0</td>\n",
       "      <td>2.0</td>\n",
       "    </tr>\n",
       "    <tr>\n",
       "      <th>std</th>\n",
       "      <td>1451222.0</td>\n",
       "      <td>1.0</td>\n",
       "      <td>1.0</td>\n",
       "    </tr>\n",
       "    <tr>\n",
       "      <th>min</th>\n",
       "      <td>114950.0</td>\n",
       "      <td>0.0</td>\n",
       "      <td>0.0</td>\n",
       "    </tr>\n",
       "    <tr>\n",
       "      <th>25%</th>\n",
       "      <td>350000.0</td>\n",
       "      <td>2.0</td>\n",
       "      <td>1.0</td>\n",
       "    </tr>\n",
       "    <tr>\n",
       "      <th>50%</th>\n",
       "      <td>730000.0</td>\n",
       "      <td>3.0</td>\n",
       "      <td>2.0</td>\n",
       "    </tr>\n",
       "    <tr>\n",
       "      <th>75%</th>\n",
       "      <td>1350000.0</td>\n",
       "      <td>3.0</td>\n",
       "      <td>2.0</td>\n",
       "    </tr>\n",
       "    <tr>\n",
       "      <th>max</th>\n",
       "      <td>14795400.0</td>\n",
       "      <td>6.0</td>\n",
       "      <td>12.0</td>\n",
       "    </tr>\n",
       "  </tbody>\n",
       "</table>\n",
       "</div>"
      ],
      "text/plain": [
       "            price  bedrooms  garage\n",
       "count      2366.0    2366.0  2366.0\n",
       "mean    1186178.0       3.0     2.0\n",
       "std     1451222.0       1.0     1.0\n",
       "min      114950.0       0.0     0.0\n",
       "25%      350000.0       2.0     1.0\n",
       "50%      730000.0       3.0     2.0\n",
       "75%     1350000.0       3.0     2.0\n",
       "max    14795400.0       6.0    12.0"
      ]
     },
     "execution_count": 21,
     "metadata": {},
     "output_type": "execute_result"
    }
   ],
   "source": [
    "df.describe().round()"
   ]
  },
  {
   "cell_type": "markdown",
   "id": "494c8c0e",
   "metadata": {},
   "source": [
    "## Pedido 2. Quais os imóveis disponíveis em Curitiba?"
   ]
  },
  {
   "cell_type": "code",
   "execution_count": 22,
   "id": "7241ea08",
   "metadata": {},
   "outputs": [
    {
     "name": "stdout",
     "output_type": "stream",
     "text": [
      "O dataset possui 2366 imóveis disponíveis em Curitiba\n"
     ]
    }
   ],
   "source": [
    "# imóveis disponíveis em Curitiba\n",
    "print('O dataset possui {} imóveis disponíveis em Curitiba'.format(len(df)))"
   ]
  },
  {
   "cell_type": "markdown",
   "id": "edae4b2d",
   "metadata": {},
   "source": [
    "## Pedido 3. Qual é o que possui mais quartos e qual tem mais espaços de garagem?"
   ]
  },
  {
   "cell_type": "code",
   "execution_count": 23,
   "id": "80bd7a96",
   "metadata": {},
   "outputs": [
    {
     "data": {
      "text/html": [
       "<div>\n",
       "<style scoped>\n",
       "    .dataframe tbody tr th:only-of-type {\n",
       "        vertical-align: middle;\n",
       "    }\n",
       "\n",
       "    .dataframe tbody tr th {\n",
       "        vertical-align: top;\n",
       "    }\n",
       "\n",
       "    .dataframe thead th {\n",
       "        text-align: right;\n",
       "    }\n",
       "</style>\n",
       "<table border=\"1\" class=\"dataframe\">\n",
       "  <thead>\n",
       "    <tr style=\"text-align: right;\">\n",
       "      <th></th>\n",
       "      <th>price</th>\n",
       "      <th>city</th>\n",
       "      <th>neighborhood</th>\n",
       "      <th>bedrooms</th>\n",
       "      <th>garage</th>\n",
       "    </tr>\n",
       "  </thead>\n",
       "  <tbody>\n",
       "    <tr>\n",
       "      <th>483</th>\n",
       "      <td>1350000</td>\n",
       "      <td>curitiba</td>\n",
       "      <td>champagnat</td>\n",
       "      <td>6</td>\n",
       "      <td>5.0</td>\n",
       "    </tr>\n",
       "  </tbody>\n",
       "</table>\n",
       "</div>"
      ],
      "text/plain": [
       "       price      city neighborhood  bedrooms  garage\n",
       "483  1350000  curitiba   champagnat         6     5.0"
      ]
     },
     "execution_count": 23,
     "metadata": {},
     "output_type": "execute_result"
    }
   ],
   "source": [
    "# imóvel com mais quartos\n",
    "df[df['bedrooms'] == df['bedrooms'].max()]"
   ]
  },
  {
   "cell_type": "code",
   "execution_count": 24,
   "id": "204ce634",
   "metadata": {},
   "outputs": [
    {
     "data": {
      "text/html": [
       "<div>\n",
       "<style scoped>\n",
       "    .dataframe tbody tr th:only-of-type {\n",
       "        vertical-align: middle;\n",
       "    }\n",
       "\n",
       "    .dataframe tbody tr th {\n",
       "        vertical-align: top;\n",
       "    }\n",
       "\n",
       "    .dataframe thead th {\n",
       "        text-align: right;\n",
       "    }\n",
       "</style>\n",
       "<table border=\"1\" class=\"dataframe\">\n",
       "  <thead>\n",
       "    <tr style=\"text-align: right;\">\n",
       "      <th></th>\n",
       "      <th>price</th>\n",
       "      <th>city</th>\n",
       "      <th>neighborhood</th>\n",
       "      <th>bedrooms</th>\n",
       "      <th>garage</th>\n",
       "    </tr>\n",
       "  </thead>\n",
       "  <tbody>\n",
       "    <tr>\n",
       "      <th>1857</th>\n",
       "      <td>617700</td>\n",
       "      <td>curitiba</td>\n",
       "      <td>mercês</td>\n",
       "      <td>2</td>\n",
       "      <td>12.0</td>\n",
       "    </tr>\n",
       "  </tbody>\n",
       "</table>\n",
       "</div>"
      ],
      "text/plain": [
       "       price      city neighborhood  bedrooms  garage\n",
       "1857  617700  curitiba       mercês         2    12.0"
      ]
     },
     "execution_count": 24,
     "metadata": {},
     "output_type": "execute_result"
    }
   ],
   "source": [
    "# imóvel com mais espaços de garagem\n",
    "df[df['garage'] == df['garage'].max()]"
   ]
  },
  {
   "cell_type": "code",
   "execution_count": 25,
   "id": "6b433cb7",
   "metadata": {},
   "outputs": [
    {
     "name": "stdout",
     "output_type": "stream",
     "text": [
      "Imóvel com maior número de quarto: 6 quartos.\n",
      "Imóvel com maior número de espaços de garagem: 12 espaços.\n"
     ]
    }
   ],
   "source": [
    "print('Imóvel com maior número de quarto:', int(df['bedrooms'].max()), 'quartos.')\n",
    "print('Imóvel com maior número de espaços de garagem:', int(df['garage'].max()), 'espaços.')"
   ]
  },
  {
   "cell_type": "markdown",
   "id": "8d18cbd5",
   "metadata": {},
   "source": [
    "## Pedido 4. Quais são os imóveis mais caro e mais barato?"
   ]
  },
  {
   "cell_type": "code",
   "execution_count": 26,
   "id": "80f33354",
   "metadata": {},
   "outputs": [
    {
     "data": {
      "text/html": [
       "<div>\n",
       "<style scoped>\n",
       "    .dataframe tbody tr th:only-of-type {\n",
       "        vertical-align: middle;\n",
       "    }\n",
       "\n",
       "    .dataframe tbody tr th {\n",
       "        vertical-align: top;\n",
       "    }\n",
       "\n",
       "    .dataframe thead th {\n",
       "        text-align: right;\n",
       "    }\n",
       "</style>\n",
       "<table border=\"1\" class=\"dataframe\">\n",
       "  <thead>\n",
       "    <tr style=\"text-align: right;\">\n",
       "      <th></th>\n",
       "      <th>price</th>\n",
       "      <th>city</th>\n",
       "      <th>neighborhood</th>\n",
       "      <th>bedrooms</th>\n",
       "      <th>garage</th>\n",
       "    </tr>\n",
       "  </thead>\n",
       "  <tbody>\n",
       "    <tr>\n",
       "      <th>1252</th>\n",
       "      <td>14795400</td>\n",
       "      <td>curitiba</td>\n",
       "      <td>água verde</td>\n",
       "      <td>3</td>\n",
       "      <td>6.0</td>\n",
       "    </tr>\n",
       "  </tbody>\n",
       "</table>\n",
       "</div>"
      ],
      "text/plain": [
       "         price      city neighborhood  bedrooms  garage\n",
       "1252  14795400  curitiba   água verde         3     6.0"
      ]
     },
     "execution_count": 26,
     "metadata": {},
     "output_type": "execute_result"
    }
   ],
   "source": [
    "# imóvel mais caro\n",
    "df[df['price'] == df['price'].max()]"
   ]
  },
  {
   "cell_type": "code",
   "execution_count": 27,
   "id": "ba66870a",
   "metadata": {},
   "outputs": [
    {
     "data": {
      "text/html": [
       "<div>\n",
       "<style scoped>\n",
       "    .dataframe tbody tr th:only-of-type {\n",
       "        vertical-align: middle;\n",
       "    }\n",
       "\n",
       "    .dataframe tbody tr th {\n",
       "        vertical-align: top;\n",
       "    }\n",
       "\n",
       "    .dataframe thead th {\n",
       "        text-align: right;\n",
       "    }\n",
       "</style>\n",
       "<table border=\"1\" class=\"dataframe\">\n",
       "  <thead>\n",
       "    <tr style=\"text-align: right;\">\n",
       "      <th></th>\n",
       "      <th>price</th>\n",
       "      <th>city</th>\n",
       "      <th>neighborhood</th>\n",
       "      <th>bedrooms</th>\n",
       "      <th>garage</th>\n",
       "    </tr>\n",
       "  </thead>\n",
       "  <tbody>\n",
       "    <tr>\n",
       "      <th>767</th>\n",
       "      <td>114950</td>\n",
       "      <td>curitiba</td>\n",
       "      <td>cidade industrial de curitiba</td>\n",
       "      <td>2</td>\n",
       "      <td>1.0</td>\n",
       "    </tr>\n",
       "  </tbody>\n",
       "</table>\n",
       "</div>"
      ],
      "text/plain": [
       "      price      city                   neighborhood  bedrooms  garage\n",
       "767  114950  curitiba  cidade industrial de curitiba         2     1.0"
      ]
     },
     "execution_count": 27,
     "metadata": {},
     "output_type": "execute_result"
    }
   ],
   "source": [
    "# imóvel mais barato\n",
    "df[df['price'] == df['price'].min()]"
   ]
  },
  {
   "cell_type": "code",
   "execution_count": 28,
   "id": "242456ad",
   "metadata": {},
   "outputs": [
    {
     "name": "stdout",
     "output_type": "stream",
     "text": [
      "Imóvel mais caro: R$ 14795400\n",
      "Imóvel mais barato: R$ 114950\n"
     ]
    }
   ],
   "source": [
    "print('Imóvel mais caro: R$', int(df['price'].max()))\n",
    "print('Imóvel mais barato: R$', int(df['price'].min()))"
   ]
  },
  {
   "cell_type": "markdown",
   "id": "5212f666",
   "metadata": {},
   "source": [
    "## Pedido 5. Criar uma classificação para os imóveis de Curitiba, separando-os em categorias proporcionais (baixo padrão/ alto padrão)."
   ]
  },
  {
   "cell_type": "code",
   "execution_count": 29,
   "id": "c814e115",
   "metadata": {},
   "outputs": [
    {
     "data": {
      "text/plain": [
       "730000.0"
      ]
     },
     "execution_count": 29,
     "metadata": {},
     "output_type": "execute_result"
    }
   ],
   "source": [
    "# mediana dos valores de imóveis\n",
    "df['price'].median()"
   ]
  },
  {
   "cell_type": "code",
   "execution_count": 30,
   "id": "58540ec7",
   "metadata": {},
   "outputs": [
    {
     "data": {
      "text/html": [
       "<div>\n",
       "<style scoped>\n",
       "    .dataframe tbody tr th:only-of-type {\n",
       "        vertical-align: middle;\n",
       "    }\n",
       "\n",
       "    .dataframe tbody tr th {\n",
       "        vertical-align: top;\n",
       "    }\n",
       "\n",
       "    .dataframe thead th {\n",
       "        text-align: right;\n",
       "    }\n",
       "</style>\n",
       "<table border=\"1\" class=\"dataframe\">\n",
       "  <thead>\n",
       "    <tr style=\"text-align: right;\">\n",
       "      <th></th>\n",
       "      <th>price</th>\n",
       "      <th>city</th>\n",
       "      <th>neighborhood</th>\n",
       "      <th>bedrooms</th>\n",
       "      <th>garage</th>\n",
       "      <th>class</th>\n",
       "    </tr>\n",
       "  </thead>\n",
       "  <tbody>\n",
       "    <tr>\n",
       "      <th>0</th>\n",
       "      <td>194000</td>\n",
       "      <td>curitiba</td>\n",
       "      <td>santa cândida</td>\n",
       "      <td>2</td>\n",
       "      <td>1.0</td>\n",
       "      <td>low</td>\n",
       "    </tr>\n",
       "    <tr>\n",
       "      <th>1</th>\n",
       "      <td>3850000</td>\n",
       "      <td>curitiba</td>\n",
       "      <td>ecoville</td>\n",
       "      <td>4</td>\n",
       "      <td>4.0</td>\n",
       "      <td>high</td>\n",
       "    </tr>\n",
       "    <tr>\n",
       "      <th>2</th>\n",
       "      <td>2745000</td>\n",
       "      <td>curitiba</td>\n",
       "      <td>ecoville</td>\n",
       "      <td>3</td>\n",
       "      <td>4.0</td>\n",
       "      <td>high</td>\n",
       "    </tr>\n",
       "    <tr>\n",
       "      <th>3</th>\n",
       "      <td>3032000</td>\n",
       "      <td>curitiba</td>\n",
       "      <td>ecoville</td>\n",
       "      <td>3</td>\n",
       "      <td>4.0</td>\n",
       "      <td>high</td>\n",
       "    </tr>\n",
       "    <tr>\n",
       "      <th>4</th>\n",
       "      <td>1640000</td>\n",
       "      <td>curitiba</td>\n",
       "      <td>champagnat</td>\n",
       "      <td>3</td>\n",
       "      <td>3.0</td>\n",
       "      <td>high</td>\n",
       "    </tr>\n",
       "  </tbody>\n",
       "</table>\n",
       "</div>"
      ],
      "text/plain": [
       "     price      city   neighborhood  bedrooms  garage class\n",
       "0   194000  curitiba  santa cândida         2     1.0   low\n",
       "1  3850000  curitiba       ecoville         4     4.0  high\n",
       "2  2745000  curitiba       ecoville         3     4.0  high\n",
       "3  3032000  curitiba       ecoville         3     4.0  high\n",
       "4  1640000  curitiba     champagnat         3     3.0  high"
      ]
     },
     "execution_count": 30,
     "metadata": {},
     "output_type": "execute_result"
    }
   ],
   "source": [
    "df['class'] = ''\n",
    "df.loc[ df['price'] > df['price'].median(), 'class'] = 'high'\n",
    "df.loc[ df['price'] <= df['price'].median(), 'class'] = 'low'\n",
    "df.head()"
   ]
  },
  {
   "cell_type": "code",
   "execution_count": 31,
   "id": "e41f7606",
   "metadata": {},
   "outputs": [
    {
     "name": "stdout",
     "output_type": "stream",
     "text": [
      "A coluna 'class' apresenta a divisão do conjunto de imóveis de Curitiba em duas classes:\n",
      " low     1184\n",
      "high    1182\n",
      "Name: class, dtype: int64\n"
     ]
    }
   ],
   "source": [
    "print(\"A coluna 'class' apresenta a divisão do conjunto de imóveis de Curitiba em duas classes:\\n\",\n",
    "      df['class'].value_counts())"
   ]
  },
  {
   "cell_type": "markdown",
   "id": "28ebfa00",
   "metadata": {},
   "source": [
    "## Pedido 6. Criar um relatório ordenado pelo preço dos imóveis de Curitiba."
   ]
  },
  {
   "cell_type": "code",
   "execution_count": 32,
   "id": "01365170",
   "metadata": {},
   "outputs": [],
   "source": [
    "report_prices_ctba = df.sort_values(by = 'price',\n",
    "                                   ignore_index=True)\n",
    "report_prices_ctba.to_csv('./report_prices_ctba.csv',\n",
    "                          sep=';', \n",
    "                          index = False,\n",
    "                          encoding = 'utf-8-sig')"
   ]
  },
  {
   "cell_type": "code",
   "execution_count": 33,
   "id": "7de91e45",
   "metadata": {},
   "outputs": [
    {
     "data": {
      "text/html": [
       "<div>\n",
       "<style scoped>\n",
       "    .dataframe tbody tr th:only-of-type {\n",
       "        vertical-align: middle;\n",
       "    }\n",
       "\n",
       "    .dataframe tbody tr th {\n",
       "        vertical-align: top;\n",
       "    }\n",
       "\n",
       "    .dataframe thead th {\n",
       "        text-align: right;\n",
       "    }\n",
       "</style>\n",
       "<table border=\"1\" class=\"dataframe\">\n",
       "  <thead>\n",
       "    <tr style=\"text-align: right;\">\n",
       "      <th></th>\n",
       "      <th>price</th>\n",
       "      <th>city</th>\n",
       "      <th>neighborhood</th>\n",
       "      <th>bedrooms</th>\n",
       "      <th>garage</th>\n",
       "      <th>class</th>\n",
       "    </tr>\n",
       "  </thead>\n",
       "  <tbody>\n",
       "    <tr>\n",
       "      <th>0</th>\n",
       "      <td>114950</td>\n",
       "      <td>curitiba</td>\n",
       "      <td>cidade industrial de curitiba</td>\n",
       "      <td>2</td>\n",
       "      <td>1.0</td>\n",
       "      <td>low</td>\n",
       "    </tr>\n",
       "    <tr>\n",
       "      <th>1</th>\n",
       "      <td>115000</td>\n",
       "      <td>curitiba</td>\n",
       "      <td>alto boqueirão</td>\n",
       "      <td>2</td>\n",
       "      <td>1.0</td>\n",
       "      <td>low</td>\n",
       "    </tr>\n",
       "    <tr>\n",
       "      <th>2</th>\n",
       "      <td>115000</td>\n",
       "      <td>curitiba</td>\n",
       "      <td>umbará</td>\n",
       "      <td>2</td>\n",
       "      <td>1.0</td>\n",
       "      <td>low</td>\n",
       "    </tr>\n",
       "    <tr>\n",
       "      <th>3</th>\n",
       "      <td>115000</td>\n",
       "      <td>curitiba</td>\n",
       "      <td>campo santana</td>\n",
       "      <td>2</td>\n",
       "      <td>1.0</td>\n",
       "      <td>low</td>\n",
       "    </tr>\n",
       "    <tr>\n",
       "      <th>4</th>\n",
       "      <td>118000</td>\n",
       "      <td>curitiba</td>\n",
       "      <td>tatuquara</td>\n",
       "      <td>2</td>\n",
       "      <td>1.0</td>\n",
       "      <td>low</td>\n",
       "    </tr>\n",
       "    <tr>\n",
       "      <th>...</th>\n",
       "      <td>...</td>\n",
       "      <td>...</td>\n",
       "      <td>...</td>\n",
       "      <td>...</td>\n",
       "      <td>...</td>\n",
       "      <td>...</td>\n",
       "    </tr>\n",
       "    <tr>\n",
       "      <th>2361</th>\n",
       "      <td>10080527</td>\n",
       "      <td>curitiba</td>\n",
       "      <td>cabral</td>\n",
       "      <td>4</td>\n",
       "      <td>5.0</td>\n",
       "      <td>high</td>\n",
       "    </tr>\n",
       "    <tr>\n",
       "      <th>2362</th>\n",
       "      <td>10519922</td>\n",
       "      <td>curitiba</td>\n",
       "      <td>mossunguê</td>\n",
       "      <td>2</td>\n",
       "      <td>1.0</td>\n",
       "      <td>high</td>\n",
       "    </tr>\n",
       "    <tr>\n",
       "      <th>2363</th>\n",
       "      <td>10851410</td>\n",
       "      <td>curitiba</td>\n",
       "      <td>ecoville</td>\n",
       "      <td>4</td>\n",
       "      <td>5.0</td>\n",
       "      <td>high</td>\n",
       "    </tr>\n",
       "    <tr>\n",
       "      <th>2364</th>\n",
       "      <td>13050000</td>\n",
       "      <td>curitiba</td>\n",
       "      <td>água verde</td>\n",
       "      <td>3</td>\n",
       "      <td>5.0</td>\n",
       "      <td>high</td>\n",
       "    </tr>\n",
       "    <tr>\n",
       "      <th>2365</th>\n",
       "      <td>14795400</td>\n",
       "      <td>curitiba</td>\n",
       "      <td>água verde</td>\n",
       "      <td>3</td>\n",
       "      <td>6.0</td>\n",
       "      <td>high</td>\n",
       "    </tr>\n",
       "  </tbody>\n",
       "</table>\n",
       "<p>2366 rows × 6 columns</p>\n",
       "</div>"
      ],
      "text/plain": [
       "         price      city                   neighborhood  bedrooms  garage  \\\n",
       "0       114950  curitiba  cidade industrial de curitiba         2     1.0   \n",
       "1       115000  curitiba                 alto boqueirão         2     1.0   \n",
       "2       115000  curitiba                         umbará         2     1.0   \n",
       "3       115000  curitiba                  campo santana         2     1.0   \n",
       "4       118000  curitiba                      tatuquara         2     1.0   \n",
       "...        ...       ...                            ...       ...     ...   \n",
       "2361  10080527  curitiba                         cabral         4     5.0   \n",
       "2362  10519922  curitiba                      mossunguê         2     1.0   \n",
       "2363  10851410  curitiba                       ecoville         4     5.0   \n",
       "2364  13050000  curitiba                     água verde         3     5.0   \n",
       "2365  14795400  curitiba                     água verde         3     6.0   \n",
       "\n",
       "     class  \n",
       "0      low  \n",
       "1      low  \n",
       "2      low  \n",
       "3      low  \n",
       "4      low  \n",
       "...    ...  \n",
       "2361  high  \n",
       "2362  high  \n",
       "2363  high  \n",
       "2364  high  \n",
       "2365  high  \n",
       "\n",
       "[2366 rows x 6 columns]"
      ]
     },
     "execution_count": 33,
     "metadata": {},
     "output_type": "execute_result"
    }
   ],
   "source": [
    "report_prices_ctba"
   ]
  },
  {
   "cell_type": "markdown",
   "id": "d24b8f44",
   "metadata": {},
   "source": [
    "## Pedido 7. Criar uma classificação de acordo com a região/zona da cidade de Curitiba que o imóvel está localizado."
   ]
  },
  {
   "cell_type": "code",
   "execution_count": 34,
   "id": "2a1644f0",
   "metadata": {},
   "outputs": [
    {
     "data": {
      "text/html": [
       "<img src=\"http://www.mobilizacuritiba.org.br/files/2014/03/mapa-regionais.jpg\"/>"
      ],
      "text/plain": [
       "<IPython.core.display.Image object>"
      ]
     },
     "execution_count": 34,
     "metadata": {},
     "output_type": "execute_result"
    }
   ],
   "source": [
    "# visualização do mapa de Curitiba (bairros e regiões)\n",
    "\n",
    "from IPython.display import Image\n",
    "from IPython.core.display import HTML \n",
    "\n",
    "Image(url= \"http://www.mobilizacuritiba.org.br/files/2014/03/mapa-regionais.jpg\")"
   ]
  },
  {
   "cell_type": "code",
   "execution_count": 35,
   "id": "ab7c2137",
   "metadata": {},
   "outputs": [
    {
     "data": {
      "text/plain": [
       "água verde      333\n",
       "batel           196\n",
       "cabral          178\n",
       "centro          140\n",
       "bacacheri        94\n",
       "               ... \n",
       "são lourenço      1\n",
       "caiuá             1\n",
       "bastel            1\n",
       "cascatinha        1\n",
       "parolin           1\n",
       "Name: neighborhood, Length: 69, dtype: int64"
      ]
     },
     "execution_count": 35,
     "metadata": {},
     "output_type": "execute_result"
    }
   ],
   "source": [
    "df.neighborhood.value_counts()"
   ]
  },
  {
   "cell_type": "code",
   "execution_count": 36,
   "id": "d53de76f",
   "metadata": {},
   "outputs": [
    {
     "data": {
      "text/plain": [
       "['matriz',\n",
       " 'ahú',\n",
       " 'alto da glória',\n",
       " 'alto da xv',\n",
       " 'batel',\n",
       " 'bigorrilho',\n",
       " 'bom retiro',\n",
       " 'cabral',\n",
       " 'centro',\n",
       " 'centro cívico',\n",
       " 'cristo rei',\n",
       " 'hugo lange',\n",
       " 'jardim botânico',\n",
       " 'jardim social',\n",
       " 'juvevê',\n",
       " 'mercês',\n",
       " 'prado velho',\n",
       " 'rebouças',\n",
       " 'são francisco',\n",
       " '',\n",
       " 'portão',\n",
       " 'portão',\n",
       " 'vila izabel',\n",
       " 'água verde',\n",
       " 'campo comprido',\n",
       " 'parolin',\n",
       " 'guaíra',\n",
       " 'lindóia',\n",
       " 'fanny',\n",
       " 'novo mundo',\n",
       " 'fazendinha',\n",
       " 'santa quitéria',\n",
       " '',\n",
       " 'bairro novo',\n",
       " 'sítio cercado',\n",
       " 'ganchinho',\n",
       " 'umbará',\n",
       " '',\n",
       " 'boa vista',\n",
       " 'abranches',\n",
       " 'atuba',\n",
       " 'bacacheri',\n",
       " 'bairro alto',\n",
       " 'barreirinha',\n",
       " 'boa vista',\n",
       " 'cachoeira',\n",
       " 'pilarzinho',\n",
       " 'santa cândida',\n",
       " 'são lourenço',\n",
       " 'taboão',\n",
       " 'tarumã',\n",
       " 'tingui',\n",
       " '',\n",
       " 'cic',\n",
       " 'cic',\n",
       " 'augusta',\n",
       " 'riviera',\n",
       " 'são miguel',\n",
       " '',\n",
       " '',\n",
       " '',\n",
       " 'santa felicidade',\n",
       " 'butiatuvinha',\n",
       " 'campina do siqueira',\n",
       " 'campo comprido',\n",
       " 'cascatinha',\n",
       " 'lamenha pequena',\n",
       " 'mossunguê',\n",
       " 'orleans',\n",
       " 'santa felicidade',\n",
       " 'são braz',\n",
       " 'santo inácio',\n",
       " 'são joão',\n",
       " 'seminário',\n",
       " 'vista alegre',\n",
       " '',\n",
       " '',\n",
       " 'boqueirão',\n",
       " 'hauer',\n",
       " 'xaxim',\n",
       " 'alto boqueirão',\n",
       " 'boqueirão',\n",
       " '',\n",
       " '',\n",
       " 'pinheirinho',\n",
       " 'campo de santana',\n",
       " 'capão raso',\n",
       " 'caximba',\n",
       " 'pinheirinho',\n",
       " 'tatuquara',\n",
       " '',\n",
       " '',\n",
       " '',\n",
       " 'cajuru',\n",
       " 'cajuru',\n",
       " 'capão da imbuia',\n",
       " 'guabirotuba',\n",
       " 'jardim das américas',\n",
       " 'uberaba']"
      ]
     },
     "execution_count": 36,
     "metadata": {},
     "output_type": "execute_result"
    }
   ],
   "source": [
    "# criação de uma lista com as zonas e bairros de Curitiba\n",
    "# fonte: http://www.mobilizacuritiba.org.br/\n",
    "\n",
    "neighborhood = []\n",
    "\n",
    "with open(\"curitiba_neighborhood_area.txt\", \"r\") as area_file:\n",
    "    for line in area_file:\n",
    "            line = line.strip()\n",
    "            line = str(line).lower()\n",
    "            neighborhood.append(line)\n",
    "area_file.close()\n",
    "neighborhood"
   ]
  },
  {
   "cell_type": "code",
   "execution_count": 37,
   "id": "2dae40eb",
   "metadata": {},
   "outputs": [],
   "source": [
    "# divisão da lista em regiões de Curitiba\n",
    "matriz = neighborhood[1:18:1]\n",
    "portao = neighborhood[21:32:1]\n",
    "bairro_novo = neighborhood[34:37:1]\n",
    "boa_vista = neighborhood[39:52:1]\n",
    "cic = neighborhood[54:58:1]\n",
    "santa_felicidade = neighborhood[62:75:1]\n",
    "boqueirao = neighborhood[78:82:1]\n",
    "pinheirinho = neighborhood[85:89:1]\n",
    "cajuru = neighborhood[94:99:1]"
   ]
  },
  {
   "cell_type": "code",
   "execution_count": 38,
   "id": "bfa1e568",
   "metadata": {},
   "outputs": [],
   "source": [
    "# criação de dicionário (bairro: região)\n",
    "region_curitiba = {}\n",
    "\n",
    "# função que atribui aos bairros o nome de sua região\n",
    "def add_region (region, name):\n",
    "    for i in region:\n",
    "        region_curitiba[i] = name"
   ]
  },
  {
   "cell_type": "code",
   "execution_count": 39,
   "id": "3d958760",
   "metadata": {},
   "outputs": [],
   "source": [
    "# adicionando as regiões no dicionário\n",
    "add_region(matriz, 'matriz')\n",
    "add_region(portao, 'portao')\n",
    "add_region(bairro_novo, 'bairro novo')\n",
    "add_region(boa_vista, 'boa vista')\n",
    "add_region(cic, 'cic')\n",
    "add_region(santa_felicidade, 'santa felicidade')\n",
    "add_region(boqueirao, 'boqueirao')\n",
    "add_region(pinheirinho, 'pinheirinho')\n",
    "add_region(cajuru, 'cajuru')"
   ]
  },
  {
   "cell_type": "code",
   "execution_count": 40,
   "id": "a805364b",
   "metadata": {},
   "outputs": [],
   "source": [
    "region_curitiba['ecoville'] = 'santa felicidade'\n",
    "region_curitiba['cidade industrial de curitiba'] = 'cic'\n",
    "region_curitiba['champagnat'] = 'matriz'\n",
    "region_curitiba['alto da rua xv'] = 'matriz'\n",
    "region_curitiba['são francisco'] = 'matriz'\n",
    "region_curitiba['neoville'] = 'portao'\n",
    "region_curitiba['barigui'] = 'cic'\n",
    "region_curitiba['campo santana'] = 'pinheirinho'\n",
    "region_curitiba['tatuquara'] = 'pinheirinho'\n",
    "region_curitiba['alto da gloria/juvevê'] = 'matriz'\n",
    "region_curitiba['bastel'] = 'matriz'\n",
    "region_curitiba['caiuá'] = 'portao'"
   ]
  },
  {
   "cell_type": "code",
   "execution_count": 41,
   "id": "3baa32aa",
   "metadata": {},
   "outputs": [
    {
     "data": {
      "text/plain": [
       "{'ahú': 'matriz',\n",
       " 'alto da glória': 'matriz',\n",
       " 'alto da xv': 'matriz',\n",
       " 'batel': 'matriz',\n",
       " 'bigorrilho': 'matriz',\n",
       " 'bom retiro': 'matriz',\n",
       " 'cabral': 'matriz',\n",
       " 'centro': 'matriz',\n",
       " 'centro cívico': 'matriz',\n",
       " 'cristo rei': 'matriz',\n",
       " 'hugo lange': 'matriz',\n",
       " 'jardim botânico': 'matriz',\n",
       " 'jardim social': 'matriz',\n",
       " 'juvevê': 'matriz',\n",
       " 'mercês': 'matriz',\n",
       " 'prado velho': 'matriz',\n",
       " 'rebouças': 'matriz',\n",
       " 'portão': 'portao',\n",
       " 'vila izabel': 'portao',\n",
       " 'água verde': 'portao',\n",
       " 'campo comprido': 'santa felicidade',\n",
       " 'parolin': 'portao',\n",
       " 'guaíra': 'portao',\n",
       " 'lindóia': 'portao',\n",
       " 'fanny': 'portao',\n",
       " 'novo mundo': 'portao',\n",
       " 'fazendinha': 'portao',\n",
       " 'santa quitéria': 'portao',\n",
       " 'sítio cercado': 'bairro novo',\n",
       " 'ganchinho': 'bairro novo',\n",
       " 'umbará': 'bairro novo',\n",
       " 'abranches': 'boa vista',\n",
       " 'atuba': 'boa vista',\n",
       " 'bacacheri': 'boa vista',\n",
       " 'bairro alto': 'boa vista',\n",
       " 'barreirinha': 'boa vista',\n",
       " 'boa vista': 'boa vista',\n",
       " 'cachoeira': 'boa vista',\n",
       " 'pilarzinho': 'boa vista',\n",
       " 'santa cândida': 'boa vista',\n",
       " 'são lourenço': 'boa vista',\n",
       " 'taboão': 'boa vista',\n",
       " 'tarumã': 'boa vista',\n",
       " 'tingui': 'boa vista',\n",
       " 'cic': 'cic',\n",
       " 'augusta': 'cic',\n",
       " 'riviera': 'cic',\n",
       " 'são miguel': 'cic',\n",
       " 'butiatuvinha': 'santa felicidade',\n",
       " 'campina do siqueira': 'santa felicidade',\n",
       " 'cascatinha': 'santa felicidade',\n",
       " 'lamenha pequena': 'santa felicidade',\n",
       " 'mossunguê': 'santa felicidade',\n",
       " 'orleans': 'santa felicidade',\n",
       " 'santa felicidade': 'santa felicidade',\n",
       " 'são braz': 'santa felicidade',\n",
       " 'santo inácio': 'santa felicidade',\n",
       " 'são joão': 'santa felicidade',\n",
       " 'seminário': 'santa felicidade',\n",
       " 'vista alegre': 'santa felicidade',\n",
       " 'hauer': 'boqueirao',\n",
       " 'xaxim': 'boqueirao',\n",
       " 'alto boqueirão': 'boqueirao',\n",
       " 'boqueirão': 'boqueirao',\n",
       " 'campo de santana': 'pinheirinho',\n",
       " 'capão raso': 'pinheirinho',\n",
       " 'caximba': 'pinheirinho',\n",
       " 'pinheirinho': 'pinheirinho',\n",
       " 'cajuru': 'cajuru',\n",
       " 'capão da imbuia': 'cajuru',\n",
       " 'guabirotuba': 'cajuru',\n",
       " 'jardim das américas': 'cajuru',\n",
       " 'uberaba': 'cajuru',\n",
       " 'ecoville': 'santa felicidade',\n",
       " 'cidade industrial de curitiba': 'cic',\n",
       " 'champagnat': 'matriz',\n",
       " 'alto da rua xv': 'matriz',\n",
       " 'são francisco': 'matriz',\n",
       " 'neoville': 'portao',\n",
       " 'barigui': 'cic',\n",
       " 'campo santana': 'pinheirinho',\n",
       " 'tatuquara': 'pinheirinho',\n",
       " 'alto da gloria/juvevê': 'matriz',\n",
       " 'bastel': 'matriz',\n",
       " 'caiuá': 'portao'}"
      ]
     },
     "execution_count": 41,
     "metadata": {},
     "output_type": "execute_result"
    }
   ],
   "source": [
    "# dicionário de bairros e regiões de Curitiba\n",
    "region_curitiba"
   ]
  },
  {
   "cell_type": "code",
   "execution_count": 42,
   "id": "ff9f1799",
   "metadata": {},
   "outputs": [],
   "source": [
    "df['region'] = df['neighborhood']"
   ]
  },
  {
   "cell_type": "code",
   "execution_count": 43,
   "id": "dfa66dda",
   "metadata": {},
   "outputs": [],
   "source": [
    "df['region'] = df['neighborhood'].map(region_curitiba)"
   ]
  },
  {
   "cell_type": "code",
   "execution_count": 44,
   "id": "95403fe4",
   "metadata": {},
   "outputs": [
    {
     "data": {
      "text/html": [
       "<div>\n",
       "<style scoped>\n",
       "    .dataframe tbody tr th:only-of-type {\n",
       "        vertical-align: middle;\n",
       "    }\n",
       "\n",
       "    .dataframe tbody tr th {\n",
       "        vertical-align: top;\n",
       "    }\n",
       "\n",
       "    .dataframe thead th {\n",
       "        text-align: right;\n",
       "    }\n",
       "</style>\n",
       "<table border=\"1\" class=\"dataframe\">\n",
       "  <thead>\n",
       "    <tr style=\"text-align: right;\">\n",
       "      <th></th>\n",
       "      <th>price</th>\n",
       "      <th>city</th>\n",
       "      <th>neighborhood</th>\n",
       "      <th>bedrooms</th>\n",
       "      <th>garage</th>\n",
       "      <th>class</th>\n",
       "      <th>region</th>\n",
       "    </tr>\n",
       "  </thead>\n",
       "  <tbody>\n",
       "    <tr>\n",
       "      <th>0</th>\n",
       "      <td>194000</td>\n",
       "      <td>curitiba</td>\n",
       "      <td>santa cândida</td>\n",
       "      <td>2</td>\n",
       "      <td>1.0</td>\n",
       "      <td>low</td>\n",
       "      <td>boa vista</td>\n",
       "    </tr>\n",
       "    <tr>\n",
       "      <th>1</th>\n",
       "      <td>3850000</td>\n",
       "      <td>curitiba</td>\n",
       "      <td>ecoville</td>\n",
       "      <td>4</td>\n",
       "      <td>4.0</td>\n",
       "      <td>high</td>\n",
       "      <td>santa felicidade</td>\n",
       "    </tr>\n",
       "    <tr>\n",
       "      <th>2</th>\n",
       "      <td>2745000</td>\n",
       "      <td>curitiba</td>\n",
       "      <td>ecoville</td>\n",
       "      <td>3</td>\n",
       "      <td>4.0</td>\n",
       "      <td>high</td>\n",
       "      <td>santa felicidade</td>\n",
       "    </tr>\n",
       "    <tr>\n",
       "      <th>3</th>\n",
       "      <td>3032000</td>\n",
       "      <td>curitiba</td>\n",
       "      <td>ecoville</td>\n",
       "      <td>3</td>\n",
       "      <td>4.0</td>\n",
       "      <td>high</td>\n",
       "      <td>santa felicidade</td>\n",
       "    </tr>\n",
       "    <tr>\n",
       "      <th>4</th>\n",
       "      <td>1640000</td>\n",
       "      <td>curitiba</td>\n",
       "      <td>champagnat</td>\n",
       "      <td>3</td>\n",
       "      <td>3.0</td>\n",
       "      <td>high</td>\n",
       "      <td>matriz</td>\n",
       "    </tr>\n",
       "    <tr>\n",
       "      <th>...</th>\n",
       "      <td>...</td>\n",
       "      <td>...</td>\n",
       "      <td>...</td>\n",
       "      <td>...</td>\n",
       "      <td>...</td>\n",
       "      <td>...</td>\n",
       "      <td>...</td>\n",
       "    </tr>\n",
       "    <tr>\n",
       "      <th>2361</th>\n",
       "      <td>585000</td>\n",
       "      <td>curitiba</td>\n",
       "      <td>são francisco</td>\n",
       "      <td>2</td>\n",
       "      <td>2.0</td>\n",
       "      <td>low</td>\n",
       "      <td>matriz</td>\n",
       "    </tr>\n",
       "    <tr>\n",
       "      <th>2362</th>\n",
       "      <td>1050000</td>\n",
       "      <td>curitiba</td>\n",
       "      <td>água verde</td>\n",
       "      <td>3</td>\n",
       "      <td>2.0</td>\n",
       "      <td>high</td>\n",
       "      <td>portao</td>\n",
       "    </tr>\n",
       "    <tr>\n",
       "      <th>2363</th>\n",
       "      <td>1271328</td>\n",
       "      <td>curitiba</td>\n",
       "      <td>mercês</td>\n",
       "      <td>3</td>\n",
       "      <td>2.0</td>\n",
       "      <td>high</td>\n",
       "      <td>matriz</td>\n",
       "    </tr>\n",
       "    <tr>\n",
       "      <th>2364</th>\n",
       "      <td>3350000</td>\n",
       "      <td>curitiba</td>\n",
       "      <td>cabral</td>\n",
       "      <td>4</td>\n",
       "      <td>5.0</td>\n",
       "      <td>high</td>\n",
       "      <td>matriz</td>\n",
       "    </tr>\n",
       "    <tr>\n",
       "      <th>2365</th>\n",
       "      <td>140000</td>\n",
       "      <td>curitiba</td>\n",
       "      <td>cidade industrial de curitiba</td>\n",
       "      <td>3</td>\n",
       "      <td>1.0</td>\n",
       "      <td>low</td>\n",
       "      <td>cic</td>\n",
       "    </tr>\n",
       "  </tbody>\n",
       "</table>\n",
       "<p>2366 rows × 7 columns</p>\n",
       "</div>"
      ],
      "text/plain": [
       "        price      city                   neighborhood  bedrooms  garage  \\\n",
       "0      194000  curitiba                  santa cândida         2     1.0   \n",
       "1     3850000  curitiba                       ecoville         4     4.0   \n",
       "2     2745000  curitiba                       ecoville         3     4.0   \n",
       "3     3032000  curitiba                       ecoville         3     4.0   \n",
       "4     1640000  curitiba                     champagnat         3     3.0   \n",
       "...       ...       ...                            ...       ...     ...   \n",
       "2361   585000  curitiba                  são francisco         2     2.0   \n",
       "2362  1050000  curitiba                     água verde         3     2.0   \n",
       "2363  1271328  curitiba                         mercês         3     2.0   \n",
       "2364  3350000  curitiba                         cabral         4     5.0   \n",
       "2365   140000  curitiba  cidade industrial de curitiba         3     1.0   \n",
       "\n",
       "     class            region  \n",
       "0      low         boa vista  \n",
       "1     high  santa felicidade  \n",
       "2     high  santa felicidade  \n",
       "3     high  santa felicidade  \n",
       "4     high            matriz  \n",
       "...    ...               ...  \n",
       "2361   low            matriz  \n",
       "2362  high            portao  \n",
       "2363  high            matriz  \n",
       "2364  high            matriz  \n",
       "2365   low               cic  \n",
       "\n",
       "[2366 rows x 7 columns]"
      ]
     },
     "execution_count": 44,
     "metadata": {},
     "output_type": "execute_result"
    }
   ],
   "source": [
    "df"
   ]
  },
  {
   "cell_type": "code",
   "execution_count": 45,
   "id": "b1e142b8",
   "metadata": {},
   "outputs": [
    {
     "name": "stdout",
     "output_type": "stream",
     "text": [
      "Os imóveis podem ser divididos em função da região da cidade:\n"
     ]
    },
    {
     "data": {
      "text/plain": [
       "matriz              1069\n",
       "portao               583\n",
       "boa vista            250\n",
       "santa felicidade     227\n",
       "cic                   82\n",
       "pinheirinho           60\n",
       "boqueirao             43\n",
       "cajuru                30\n",
       "bairro novo           22\n",
       "Name: region, dtype: int64"
      ]
     },
     "execution_count": 45,
     "metadata": {},
     "output_type": "execute_result"
    }
   ],
   "source": [
    "print('Os imóveis podem ser divididos em função da região da cidade:')\n",
    "\n",
    "df['region'].value_counts()"
   ]
  },
  {
   "cell_type": "code",
   "execution_count": 69,
   "id": "9377267c",
   "metadata": {},
   "outputs": [
    {
     "data": {
      "text/html": [
       "<div>\n",
       "<style scoped>\n",
       "    .dataframe tbody tr th:only-of-type {\n",
       "        vertical-align: middle;\n",
       "    }\n",
       "\n",
       "    .dataframe tbody tr th {\n",
       "        vertical-align: top;\n",
       "    }\n",
       "\n",
       "    .dataframe thead th {\n",
       "        text-align: right;\n",
       "    }\n",
       "</style>\n",
       "<table border=\"1\" class=\"dataframe\">\n",
       "  <thead>\n",
       "    <tr style=\"text-align: right;\">\n",
       "      <th></th>\n",
       "      <th>count</th>\n",
       "      <th>mean</th>\n",
       "      <th>std</th>\n",
       "      <th>min</th>\n",
       "      <th>25%</th>\n",
       "      <th>50%</th>\n",
       "      <th>75%</th>\n",
       "      <th>max</th>\n",
       "    </tr>\n",
       "    <tr>\n",
       "      <th>region</th>\n",
       "      <th></th>\n",
       "      <th></th>\n",
       "      <th></th>\n",
       "      <th></th>\n",
       "      <th></th>\n",
       "      <th></th>\n",
       "      <th></th>\n",
       "      <th></th>\n",
       "    </tr>\n",
       "  </thead>\n",
       "  <tbody>\n",
       "    <tr>\n",
       "      <th>bairro novo</th>\n",
       "      <td>22.0</td>\n",
       "      <td>151177.27</td>\n",
       "      <td>25080.36</td>\n",
       "      <td>115000.0</td>\n",
       "      <td>135500.0</td>\n",
       "      <td>143500.0</td>\n",
       "      <td>166000.00</td>\n",
       "      <td>215000.0</td>\n",
       "    </tr>\n",
       "    <tr>\n",
       "      <th>boa vista</th>\n",
       "      <td>250.0</td>\n",
       "      <td>459901.91</td>\n",
       "      <td>281284.44</td>\n",
       "      <td>125000.0</td>\n",
       "      <td>240375.5</td>\n",
       "      <td>430465.0</td>\n",
       "      <td>618626.25</td>\n",
       "      <td>2963566.0</td>\n",
       "    </tr>\n",
       "    <tr>\n",
       "      <th>boqueirao</th>\n",
       "      <td>43.0</td>\n",
       "      <td>254038.23</td>\n",
       "      <td>85211.33</td>\n",
       "      <td>115000.0</td>\n",
       "      <td>199995.0</td>\n",
       "      <td>230000.0</td>\n",
       "      <td>294365.00</td>\n",
       "      <td>592905.0</td>\n",
       "    </tr>\n",
       "    <tr>\n",
       "      <th>cajuru</th>\n",
       "      <td>30.0</td>\n",
       "      <td>228513.63</td>\n",
       "      <td>74222.18</td>\n",
       "      <td>129000.0</td>\n",
       "      <td>161225.0</td>\n",
       "      <td>232450.0</td>\n",
       "      <td>279750.00</td>\n",
       "      <td>410000.0</td>\n",
       "    </tr>\n",
       "    <tr>\n",
       "      <th>cic</th>\n",
       "      <td>82.0</td>\n",
       "      <td>1197230.88</td>\n",
       "      <td>1504803.84</td>\n",
       "      <td>114950.0</td>\n",
       "      <td>222500.0</td>\n",
       "      <td>850000.0</td>\n",
       "      <td>1126230.75</td>\n",
       "      <td>8066410.0</td>\n",
       "    </tr>\n",
       "    <tr>\n",
       "      <th>matriz</th>\n",
       "      <td>1069.0</td>\n",
       "      <td>1449139.25</td>\n",
       "      <td>1529900.59</td>\n",
       "      <td>120000.0</td>\n",
       "      <td>620000.0</td>\n",
       "      <td>922694.0</td>\n",
       "      <td>1590000.00</td>\n",
       "      <td>10080527.0</td>\n",
       "    </tr>\n",
       "    <tr>\n",
       "      <th>pinheirinho</th>\n",
       "      <td>60.0</td>\n",
       "      <td>304347.10</td>\n",
       "      <td>119334.07</td>\n",
       "      <td>115000.0</td>\n",
       "      <td>226269.0</td>\n",
       "      <td>299000.0</td>\n",
       "      <td>388500.00</td>\n",
       "      <td>723000.0</td>\n",
       "    </tr>\n",
       "    <tr>\n",
       "      <th>portao</th>\n",
       "      <td>583.0</td>\n",
       "      <td>951834.37</td>\n",
       "      <td>1210581.05</td>\n",
       "      <td>140000.0</td>\n",
       "      <td>298000.0</td>\n",
       "      <td>550000.0</td>\n",
       "      <td>1247394.00</td>\n",
       "      <td>14795400.0</td>\n",
       "    </tr>\n",
       "    <tr>\n",
       "      <th>santa felicidade</th>\n",
       "      <td>227.0</td>\n",
       "      <td>1982084.08</td>\n",
       "      <td>2003276.28</td>\n",
       "      <td>133000.0</td>\n",
       "      <td>640000.0</td>\n",
       "      <td>1065682.0</td>\n",
       "      <td>3172315.00</td>\n",
       "      <td>10851410.0</td>\n",
       "    </tr>\n",
       "  </tbody>\n",
       "</table>\n",
       "</div>"
      ],
      "text/plain": [
       "                   count        mean         std       min       25%  \\\n",
       "region                                                                 \n",
       "bairro novo         22.0   151177.27    25080.36  115000.0  135500.0   \n",
       "boa vista          250.0   459901.91   281284.44  125000.0  240375.5   \n",
       "boqueirao           43.0   254038.23    85211.33  115000.0  199995.0   \n",
       "cajuru              30.0   228513.63    74222.18  129000.0  161225.0   \n",
       "cic                 82.0  1197230.88  1504803.84  114950.0  222500.0   \n",
       "matriz            1069.0  1449139.25  1529900.59  120000.0  620000.0   \n",
       "pinheirinho         60.0   304347.10   119334.07  115000.0  226269.0   \n",
       "portao             583.0   951834.37  1210581.05  140000.0  298000.0   \n",
       "santa felicidade   227.0  1982084.08  2003276.28  133000.0  640000.0   \n",
       "\n",
       "                        50%         75%         max  \n",
       "region                                               \n",
       "bairro novo        143500.0   166000.00    215000.0  \n",
       "boa vista          430465.0   618626.25   2963566.0  \n",
       "boqueirao          230000.0   294365.00    592905.0  \n",
       "cajuru             232450.0   279750.00    410000.0  \n",
       "cic                850000.0  1126230.75   8066410.0  \n",
       "matriz             922694.0  1590000.00  10080527.0  \n",
       "pinheirinho        299000.0   388500.00    723000.0  \n",
       "portao             550000.0  1247394.00  14795400.0  \n",
       "santa felicidade  1065682.0  3172315.00  10851410.0  "
      ]
     },
     "execution_count": 69,
     "metadata": {},
     "output_type": "execute_result"
    }
   ],
   "source": [
    "# estatísticas descritivas de cada região\n",
    "region_group = df.groupby('region')\n",
    "region_group['price'].describe().round(2)"
   ]
  },
  {
   "cell_type": "markdown",
   "id": "d52522f0",
   "metadata": {},
   "source": [
    "## Pedido 8. Desenvolver um sistema preditivo do preço do imóvel em função das características de quartos, garagens e região de Curitiba."
   ]
  },
  {
   "cell_type": "code",
   "execution_count": 46,
   "id": "ec4aaefb",
   "metadata": {},
   "outputs": [
    {
     "name": "stdout",
     "output_type": "stream",
     "text": [
      "<class 'pandas.core.frame.DataFrame'>\n",
      "RangeIndex: 2366 entries, 0 to 2365\n",
      "Data columns (total 7 columns):\n",
      " #   Column        Non-Null Count  Dtype  \n",
      "---  ------        --------------  -----  \n",
      " 0   price         2366 non-null   int64  \n",
      " 1   city          2366 non-null   object \n",
      " 2   neighborhood  2366 non-null   object \n",
      " 3   bedrooms      2366 non-null   int32  \n",
      " 4   garage        2366 non-null   float64\n",
      " 5   class         2366 non-null   object \n",
      " 6   region        2366 non-null   object \n",
      "dtypes: float64(1), int32(1), int64(1), object(4)\n",
      "memory usage: 120.3+ KB\n"
     ]
    }
   ],
   "source": [
    "df.info()"
   ]
  },
  {
   "cell_type": "code",
   "execution_count": 50,
   "id": "6e521b05",
   "metadata": {},
   "outputs": [
    {
     "data": {
      "text/html": [
       "<div>\n",
       "<style scoped>\n",
       "    .dataframe tbody tr th:only-of-type {\n",
       "        vertical-align: middle;\n",
       "    }\n",
       "\n",
       "    .dataframe tbody tr th {\n",
       "        vertical-align: top;\n",
       "    }\n",
       "\n",
       "    .dataframe thead th {\n",
       "        text-align: right;\n",
       "    }\n",
       "</style>\n",
       "<table border=\"1\" class=\"dataframe\">\n",
       "  <thead>\n",
       "    <tr style=\"text-align: right;\">\n",
       "      <th></th>\n",
       "      <th>price</th>\n",
       "      <th>bedrooms</th>\n",
       "      <th>garage</th>\n",
       "    </tr>\n",
       "  </thead>\n",
       "  <tbody>\n",
       "    <tr>\n",
       "      <th>count</th>\n",
       "      <td>2366.00</td>\n",
       "      <td>2366.00</td>\n",
       "      <td>2366.00</td>\n",
       "    </tr>\n",
       "    <tr>\n",
       "      <th>mean</th>\n",
       "      <td>1186177.76</td>\n",
       "      <td>2.60</td>\n",
       "      <td>1.80</td>\n",
       "    </tr>\n",
       "    <tr>\n",
       "      <th>std</th>\n",
       "      <td>1451221.91</td>\n",
       "      <td>0.82</td>\n",
       "      <td>1.09</td>\n",
       "    </tr>\n",
       "    <tr>\n",
       "      <th>min</th>\n",
       "      <td>114950.00</td>\n",
       "      <td>0.00</td>\n",
       "      <td>0.00</td>\n",
       "    </tr>\n",
       "    <tr>\n",
       "      <th>25%</th>\n",
       "      <td>350000.00</td>\n",
       "      <td>2.00</td>\n",
       "      <td>1.00</td>\n",
       "    </tr>\n",
       "    <tr>\n",
       "      <th>50%</th>\n",
       "      <td>730000.00</td>\n",
       "      <td>3.00</td>\n",
       "      <td>2.00</td>\n",
       "    </tr>\n",
       "    <tr>\n",
       "      <th>75%</th>\n",
       "      <td>1350000.00</td>\n",
       "      <td>3.00</td>\n",
       "      <td>2.00</td>\n",
       "    </tr>\n",
       "    <tr>\n",
       "      <th>max</th>\n",
       "      <td>14795400.00</td>\n",
       "      <td>6.00</td>\n",
       "      <td>12.00</td>\n",
       "    </tr>\n",
       "  </tbody>\n",
       "</table>\n",
       "</div>"
      ],
      "text/plain": [
       "             price  bedrooms   garage\n",
       "count      2366.00   2366.00  2366.00\n",
       "mean    1186177.76      2.60     1.80\n",
       "std     1451221.91      0.82     1.09\n",
       "min      114950.00      0.00     0.00\n",
       "25%      350000.00      2.00     1.00\n",
       "50%      730000.00      3.00     2.00\n",
       "75%     1350000.00      3.00     2.00\n",
       "max    14795400.00      6.00    12.00"
      ]
     },
     "execution_count": 50,
     "metadata": {},
     "output_type": "execute_result"
    }
   ],
   "source": [
    "# análise descritiva\n",
    "df.describe().round(2)"
   ]
  },
  {
   "cell_type": "code",
   "execution_count": 54,
   "id": "8d323ad8",
   "metadata": {},
   "outputs": [
    {
     "data": {
      "text/plain": [
       "<seaborn.axisgrid.PairGrid at 0xd8d13ec1c0>"
      ]
     },
     "execution_count": 54,
     "metadata": {},
     "output_type": "execute_result"
    },
    {
     "data": {
      "image/png": "[encoded data removed]",
      "text/plain": [
       "<Figure size 540x540 with 12 Axes>"
      ]
     },
     "metadata": {},
     "output_type": "display_data"
    }
   ],
   "source": [
    "ax = sns.pairplot(df, kind='reg')\n",
    "ax.fig.suptitle('Dispersão entre as Variáveis', fontsize=20, y=1)\n",
    "ax"
   ]
  },
  {
   "cell_type": "markdown",
   "id": "beb5c63b",
   "metadata": {},
   "source": [
    "### Exclusão de outlier da coluna garage"
   ]
  },
  {
   "cell_type": "code",
   "execution_count": 101,
   "id": "1bbddf4f",
   "metadata": {},
   "outputs": [],
   "source": [
    "df = df.drop(df[(df.garage>10)].index)"
   ]
  },
  {
   "cell_type": "code",
   "execution_count": 102,
   "id": "2623d507",
   "metadata": {},
   "outputs": [
    {
     "data": {
      "text/plain": [
       "count    2365.000000\n",
       "mean        1.797886\n",
       "std         1.068189\n",
       "min         0.000000\n",
       "25%         1.000000\n",
       "50%         2.000000\n",
       "75%         2.000000\n",
       "max         6.000000\n",
       "Name: garage, dtype: float64"
      ]
     },
     "execution_count": 102,
     "metadata": {},
     "output_type": "execute_result"
    }
   ],
   "source": [
    "df.garage.describe()"
   ]
  },
  {
   "cell_type": "markdown",
   "id": "b390b64d",
   "metadata": {},
   "source": [
    "# Pré-processamento dos dados"
   ]
  },
  {
   "cell_type": "markdown",
   "id": "a967644d",
   "metadata": {},
   "source": [
    "## Distribuição de frequências"
   ]
  },
  {
   "cell_type": "code",
   "execution_count": 103,
   "id": "8aa6baff",
   "metadata": {},
   "outputs": [
    {
     "data": {
      "image/png": "[encoded data removed]",
      "text/plain": [
       "<Figure size 1440x432 with 1 Axes>"
      ]
     },
     "metadata": {},
     "output_type": "display_data"
    }
   ],
   "source": [
    "# distribuição de frequências da variável dependente\n",
    "ax = sns.distplot(df['price'])\n",
    "ax.figure.set_size_inches(20, 6)\n",
    "ax.set_title('Distribuição de Frequências', fontsize=20)\n",
    "ax.set_xlabel('Preço dos Imóveis (R$)', fontsize=16)\n",
    "ax;"
   ]
  },
  {
   "cell_type": "markdown",
   "id": "2a42d471",
   "metadata": {},
   "source": [
    "A distribuição de frequência da variável dependente revela uma assimetria à direita."
   ]
  },
  {
   "cell_type": "code",
   "execution_count": 105,
   "id": "93aee83f",
   "metadata": {},
   "outputs": [
    {
     "data": {
      "image/png": "[encoded data removed]",
      "text/plain": [
       "<Figure size 1296x432 with 2 Axes>"
      ]
     },
     "metadata": {},
     "output_type": "display_data"
    }
   ],
   "source": [
    "# distribuição de frequências das variáveis independente\n",
    "plt.figure(figsize=(18, 6))\n",
    "\n",
    "plt.subplot(1,2,1)\n",
    "sns.distplot(df['bedrooms'], bins=7, kde=False)\n",
    "plt.title('Histograma - Quartos')\n",
    "\n",
    "plt.subplot(1, 2, 2)\n",
    "sns.distplot(df['garage'], bins=6, kde=False)\n",
    "plt.title('Histograma - Garagens');"
   ]
  },
  {
   "cell_type": "markdown",
   "id": "92ed39f3",
   "metadata": {},
   "source": [
    "### Aplicação da transformação logarítmica aos dados do dataset"
   ]
  },
  {
   "cell_type": "code",
   "execution_count": 106,
   "id": "8bb352ce",
   "metadata": {},
   "outputs": [],
   "source": [
    "df['log_price'] = np.log(df['price'])\n",
    "df['log_bedrooms'] = np.log(df['bedrooms'] + 1)\n",
    "df['log_garage'] = np.log(df['garage'] + 1)"
   ]
  },
  {
   "cell_type": "code",
   "execution_count": 107,
   "id": "bae8ca1d",
   "metadata": {},
   "outputs": [
    {
     "data": {
      "text/html": [
       "<div>\n",
       "<style scoped>\n",
       "    .dataframe tbody tr th:only-of-type {\n",
       "        vertical-align: middle;\n",
       "    }\n",
       "\n",
       "    .dataframe tbody tr th {\n",
       "        vertical-align: top;\n",
       "    }\n",
       "\n",
       "    .dataframe thead th {\n",
       "        text-align: right;\n",
       "    }\n",
       "</style>\n",
       "<table border=\"1\" class=\"dataframe\">\n",
       "  <thead>\n",
       "    <tr style=\"text-align: right;\">\n",
       "      <th></th>\n",
       "      <th>price</th>\n",
       "      <th>city</th>\n",
       "      <th>neighborhood</th>\n",
       "      <th>bedrooms</th>\n",
       "      <th>garage</th>\n",
       "      <th>class</th>\n",
       "      <th>region</th>\n",
       "      <th>log_price</th>\n",
       "      <th>log_bedrooms</th>\n",
       "      <th>log_garage</th>\n",
       "    </tr>\n",
       "  </thead>\n",
       "  <tbody>\n",
       "    <tr>\n",
       "      <th>0</th>\n",
       "      <td>194000</td>\n",
       "      <td>curitiba</td>\n",
       "      <td>santa cândida</td>\n",
       "      <td>2</td>\n",
       "      <td>1.0</td>\n",
       "      <td>low</td>\n",
       "      <td>boa vista</td>\n",
       "      <td>12.175613</td>\n",
       "      <td>1.098612</td>\n",
       "      <td>0.693147</td>\n",
       "    </tr>\n",
       "    <tr>\n",
       "      <th>1</th>\n",
       "      <td>3850000</td>\n",
       "      <td>curitiba</td>\n",
       "      <td>ecoville</td>\n",
       "      <td>4</td>\n",
       "      <td>4.0</td>\n",
       "      <td>high</td>\n",
       "      <td>santa felicidade</td>\n",
       "      <td>15.163584</td>\n",
       "      <td>1.609438</td>\n",
       "      <td>1.609438</td>\n",
       "    </tr>\n",
       "    <tr>\n",
       "      <th>2</th>\n",
       "      <td>2745000</td>\n",
       "      <td>curitiba</td>\n",
       "      <td>ecoville</td>\n",
       "      <td>3</td>\n",
       "      <td>4.0</td>\n",
       "      <td>high</td>\n",
       "      <td>santa felicidade</td>\n",
       "      <td>14.825292</td>\n",
       "      <td>1.386294</td>\n",
       "      <td>1.609438</td>\n",
       "    </tr>\n",
       "    <tr>\n",
       "      <th>3</th>\n",
       "      <td>3032000</td>\n",
       "      <td>curitiba</td>\n",
       "      <td>ecoville</td>\n",
       "      <td>3</td>\n",
       "      <td>4.0</td>\n",
       "      <td>high</td>\n",
       "      <td>santa felicidade</td>\n",
       "      <td>14.924733</td>\n",
       "      <td>1.386294</td>\n",
       "      <td>1.609438</td>\n",
       "    </tr>\n",
       "    <tr>\n",
       "      <th>4</th>\n",
       "      <td>1640000</td>\n",
       "      <td>curitiba</td>\n",
       "      <td>champagnat</td>\n",
       "      <td>3</td>\n",
       "      <td>3.0</td>\n",
       "      <td>high</td>\n",
       "      <td>matriz</td>\n",
       "      <td>14.310207</td>\n",
       "      <td>1.386294</td>\n",
       "      <td>1.386294</td>\n",
       "    </tr>\n",
       "  </tbody>\n",
       "</table>\n",
       "</div>"
      ],
      "text/plain": [
       "     price      city   neighborhood  bedrooms  garage class            region  \\\n",
       "0   194000  curitiba  santa cândida         2     1.0   low         boa vista   \n",
       "1  3850000  curitiba       ecoville         4     4.0  high  santa felicidade   \n",
       "2  2745000  curitiba       ecoville         3     4.0  high  santa felicidade   \n",
       "3  3032000  curitiba       ecoville         3     4.0  high  santa felicidade   \n",
       "4  1640000  curitiba     champagnat         3     3.0  high            matriz   \n",
       "\n",
       "   log_price  log_bedrooms  log_garage  \n",
       "0  12.175613      1.098612    0.693147  \n",
       "1  15.163584      1.609438    1.609438  \n",
       "2  14.825292      1.386294    1.609438  \n",
       "3  14.924733      1.386294    1.609438  \n",
       "4  14.310207      1.386294    1.386294  "
      ]
     },
     "execution_count": 107,
     "metadata": {},
     "output_type": "execute_result"
    }
   ],
   "source": [
    "df.head()"
   ]
  },
  {
   "cell_type": "code",
   "execution_count": 108,
   "id": "b27e98e6",
   "metadata": {},
   "outputs": [
    {
     "data": {
      "text/html": [
       "<div>\n",
       "<style scoped>\n",
       "    .dataframe tbody tr th:only-of-type {\n",
       "        vertical-align: middle;\n",
       "    }\n",
       "\n",
       "    .dataframe tbody tr th {\n",
       "        vertical-align: top;\n",
       "    }\n",
       "\n",
       "    .dataframe thead th {\n",
       "        text-align: right;\n",
       "    }\n",
       "</style>\n",
       "<table border=\"1\" class=\"dataframe\">\n",
       "  <thead>\n",
       "    <tr style=\"text-align: right;\">\n",
       "      <th></th>\n",
       "      <th>price</th>\n",
       "      <th>bedrooms</th>\n",
       "      <th>garage</th>\n",
       "      <th>log_price</th>\n",
       "      <th>log_bedrooms</th>\n",
       "      <th>log_garage</th>\n",
       "    </tr>\n",
       "  </thead>\n",
       "  <tbody>\n",
       "    <tr>\n",
       "      <th>count</th>\n",
       "      <td>2365.00</td>\n",
       "      <td>2365.00</td>\n",
       "      <td>2365.00</td>\n",
       "      <td>2365.00</td>\n",
       "      <td>2365.00</td>\n",
       "      <td>2365.00</td>\n",
       "    </tr>\n",
       "    <tr>\n",
       "      <th>mean</th>\n",
       "      <td>1186418.13</td>\n",
       "      <td>2.60</td>\n",
       "      <td>1.80</td>\n",
       "      <td>13.51</td>\n",
       "      <td>1.25</td>\n",
       "      <td>0.96</td>\n",
       "    </tr>\n",
       "    <tr>\n",
       "      <th>std</th>\n",
       "      <td>1451481.71</td>\n",
       "      <td>0.82</td>\n",
       "      <td>1.07</td>\n",
       "      <td>0.94</td>\n",
       "      <td>0.25</td>\n",
       "      <td>0.38</td>\n",
       "    </tr>\n",
       "    <tr>\n",
       "      <th>min</th>\n",
       "      <td>114950.00</td>\n",
       "      <td>0.00</td>\n",
       "      <td>0.00</td>\n",
       "      <td>11.65</td>\n",
       "      <td>0.00</td>\n",
       "      <td>0.00</td>\n",
       "    </tr>\n",
       "    <tr>\n",
       "      <th>25%</th>\n",
       "      <td>350000.00</td>\n",
       "      <td>2.00</td>\n",
       "      <td>1.00</td>\n",
       "      <td>12.77</td>\n",
       "      <td>1.10</td>\n",
       "      <td>0.69</td>\n",
       "    </tr>\n",
       "    <tr>\n",
       "      <th>50%</th>\n",
       "      <td>730000.00</td>\n",
       "      <td>3.00</td>\n",
       "      <td>2.00</td>\n",
       "      <td>13.50</td>\n",
       "      <td>1.39</td>\n",
       "      <td>1.10</td>\n",
       "    </tr>\n",
       "    <tr>\n",
       "      <th>75%</th>\n",
       "      <td>1350000.00</td>\n",
       "      <td>3.00</td>\n",
       "      <td>2.00</td>\n",
       "      <td>14.12</td>\n",
       "      <td>1.39</td>\n",
       "      <td>1.10</td>\n",
       "    </tr>\n",
       "    <tr>\n",
       "      <th>max</th>\n",
       "      <td>14795400.00</td>\n",
       "      <td>6.00</td>\n",
       "      <td>6.00</td>\n",
       "      <td>16.51</td>\n",
       "      <td>1.95</td>\n",
       "      <td>1.95</td>\n",
       "    </tr>\n",
       "  </tbody>\n",
       "</table>\n",
       "</div>"
      ],
      "text/plain": [
       "             price  bedrooms   garage  log_price  log_bedrooms  log_garage\n",
       "count      2365.00   2365.00  2365.00    2365.00       2365.00     2365.00\n",
       "mean    1186418.13      2.60     1.80      13.51          1.25        0.96\n",
       "std     1451481.71      0.82     1.07       0.94          0.25        0.38\n",
       "min      114950.00      0.00     0.00      11.65          0.00        0.00\n",
       "25%      350000.00      2.00     1.00      12.77          1.10        0.69\n",
       "50%      730000.00      3.00     2.00      13.50          1.39        1.10\n",
       "75%     1350000.00      3.00     2.00      14.12          1.39        1.10\n",
       "max    14795400.00      6.00     6.00      16.51          1.95        1.95"
      ]
     },
     "execution_count": 108,
     "metadata": {},
     "output_type": "execute_result"
    }
   ],
   "source": [
    "df.describe().round(2)"
   ]
  },
  {
   "cell_type": "markdown",
   "id": "725e9e3d",
   "metadata": {},
   "source": [
    "### Distribuilção de frequências de variáveis transformadas"
   ]
  },
  {
   "cell_type": "code",
   "execution_count": 109,
   "id": "700dd8ef",
   "metadata": {},
   "outputs": [
    {
     "data": {
      "image/png": "[encoded data removed]",
      "text/plain": [
       "<Figure size 1440x432 with 1 Axes>"
      ]
     },
     "metadata": {},
     "output_type": "display_data"
    }
   ],
   "source": [
    "# distribuição de frequências da variável dependente transformada (y)\n",
    "ax = sns.distplot(df['log_price'])\n",
    "ax.figure.set_size_inches(20, 6)\n",
    "ax.set_title('Distribuição de Frequências', fontsize=20)\n",
    "ax.set_xlabel('Preço dos Imóveis (R$)', fontsize=16)\n",
    "ax;"
   ]
  },
  {
   "cell_type": "markdown",
   "id": "823e2fa1",
   "metadata": {},
   "source": [
    "### Verificando relação linear entre VD e VI's"
   ]
  },
  {
   "cell_type": "code",
   "execution_count": 110,
   "id": "49183974",
   "metadata": {},
   "outputs": [
    {
     "data": {
      "image/png": "[encoded data removed]",
      "text/plain": [
       "<Figure size 720x360 with 2 Axes>"
      ]
     },
     "metadata": {},
     "output_type": "display_data"
    }
   ],
   "source": [
    "ax = sns.pairplot(df,\n",
    "                  y_vars='log_price',\n",
    "                  x_vars=['log_bedrooms', 'log_garage'],\n",
    "                  height=5)\n",
    "ax.fig.suptitle('Dispersão entre as Variáveis Transformadas',\n",
    "                fontsize=20, y=1.05)\n",
    "ax;"
   ]
  },
  {
   "cell_type": "markdown",
   "id": "62dce8ca",
   "metadata": {},
   "source": [
    "# Estimando um Modelo de Regressão Linear para o Preço"
   ]
  },
  {
   "cell_type": "code",
   "execution_count": 123,
   "id": "1589cef2",
   "metadata": {},
   "outputs": [],
   "source": [
    "from sklearn.model_selection import train_test_split\n",
    "from sklearn.linear_model import LinearRegression\n",
    "from sklearn import metrics\n",
    "import statsmodels.api as sm"
   ]
  },
  {
   "cell_type": "code",
   "execution_count": 112,
   "id": "ce07e011",
   "metadata": {},
   "outputs": [],
   "source": [
    "# criação de dataset de treino e teste\n",
    "y = df['log_price']\n",
    "X = df[['log_bedrooms', 'log_garage']]"
   ]
  },
  {
   "cell_type": "code",
   "execution_count": 113,
   "id": "c0efd46e",
   "metadata": {},
   "outputs": [],
   "source": [
    "X_train, X_test, y_train, y_test = train_test_split(\n",
    "    X, y, test_size=0.2, random_state=10)"
   ]
  },
  {
   "cell_type": "code",
   "execution_count": 125,
   "id": "b99051d6",
   "metadata": {},
   "outputs": [],
   "source": [
    "X_train_constant = sm.add_constant(X_train)\n",
    "\n",
    "model_statsmodels = sm.OLS(y_train, X_train_com_constante, hasconst = True).fit()"
   ]
  },
  {
   "cell_type": "code",
   "execution_count": 126,
   "id": "ec8a1eda",
   "metadata": {},
   "outputs": [
    {
     "name": "stdout",
     "output_type": "stream",
     "text": [
      "                            OLS Regression Results                            \n",
      "==============================================================================\n",
      "Dep. Variable:              log_price   R-squared:                       0.574\n",
      "Model:                            OLS   Adj. R-squared:                  0.573\n",
      "Method:                 Least Squares   F-statistic:                     1270.\n",
      "Date:                Tue, 16 Nov 2021   Prob (F-statistic):               0.00\n",
      "Time:                        15:20:06   Log-Likelihood:                -1765.6\n",
      "No. Observations:                1892   AIC:                             3537.\n",
      "Df Residuals:                    1889   BIC:                             3554.\n",
      "Df Model:                           2                                         \n",
      "Covariance Type:            nonrobust                                         \n",
      "================================================================================\n",
      "                   coef    std err          t      P>|t|      [0.025      0.975]\n",
      "--------------------------------------------------------------------------------\n",
      "const           11.3665      0.072    157.927      0.000      11.225      11.508\n",
      "log_bedrooms     0.4018      0.071      5.644      0.000       0.262       0.541\n",
      "log_garage       1.7108      0.048     35.816      0.000       1.617       1.804\n",
      "==============================================================================\n",
      "Omnibus:                      418.623   Durbin-Watson:                   2.015\n",
      "Prob(Omnibus):                  0.000   Jarque-Bera (JB):             2139.681\n",
      "Skew:                           0.948   Prob(JB):                         0.00\n",
      "Kurtosis:                       7.853   Cond. No.                         13.3\n",
      "==============================================================================\n",
      "\n",
      "Notes:\n",
      "[1] Standard Errors assume that the covariance matrix of the errors is correctly specified.\n"
     ]
    }
   ],
   "source": [
    "print(model_statsmodels.summary())"
   ]
  },
  {
   "cell_type": "code",
   "execution_count": 127,
   "id": "e5de3523",
   "metadata": {},
   "outputs": [],
   "source": [
    "# criação da função de one-hot encoder\n",
    "def one_hot_encoder(dataset, columns, drop_first=False):\n",
    "    dataset = pd.get_dummies(dataset, \n",
    "                             columns=columns,\n",
    "                             drop_first=drop_first)\n",
    "    return dataset"
   ]
  },
  {
   "cell_type": "code",
   "execution_count": 136,
   "id": "289b62d1",
   "metadata": {},
   "outputs": [
    {
     "data": {
      "text/html": [
       "<div>\n",
       "<style scoped>\n",
       "    .dataframe tbody tr th:only-of-type {\n",
       "        vertical-align: middle;\n",
       "    }\n",
       "\n",
       "    .dataframe tbody tr th {\n",
       "        vertical-align: top;\n",
       "    }\n",
       "\n",
       "    .dataframe thead th {\n",
       "        text-align: right;\n",
       "    }\n",
       "</style>\n",
       "<table border=\"1\" class=\"dataframe\">\n",
       "  <thead>\n",
       "    <tr style=\"text-align: right;\">\n",
       "      <th></th>\n",
       "      <th>price</th>\n",
       "      <th>city</th>\n",
       "      <th>neighborhood</th>\n",
       "      <th>bedrooms</th>\n",
       "      <th>garage</th>\n",
       "      <th>class</th>\n",
       "      <th>log_price</th>\n",
       "      <th>log_bedrooms</th>\n",
       "      <th>log_garage</th>\n",
       "      <th>region_bairro novo</th>\n",
       "      <th>region_boa vista</th>\n",
       "      <th>region_boqueirao</th>\n",
       "      <th>region_cajuru</th>\n",
       "      <th>region_cic</th>\n",
       "      <th>region_matriz</th>\n",
       "      <th>region_pinheirinho</th>\n",
       "      <th>region_portao</th>\n",
       "      <th>region_santa felicidade</th>\n",
       "    </tr>\n",
       "  </thead>\n",
       "  <tbody>\n",
       "    <tr>\n",
       "      <th>0</th>\n",
       "      <td>194000</td>\n",
       "      <td>curitiba</td>\n",
       "      <td>santa cândida</td>\n",
       "      <td>2</td>\n",
       "      <td>1.0</td>\n",
       "      <td>low</td>\n",
       "      <td>12.175613</td>\n",
       "      <td>1.098612</td>\n",
       "      <td>0.693147</td>\n",
       "      <td>0</td>\n",
       "      <td>1</td>\n",
       "      <td>0</td>\n",
       "      <td>0</td>\n",
       "      <td>0</td>\n",
       "      <td>0</td>\n",
       "      <td>0</td>\n",
       "      <td>0</td>\n",
       "      <td>0</td>\n",
       "    </tr>\n",
       "    <tr>\n",
       "      <th>1</th>\n",
       "      <td>3850000</td>\n",
       "      <td>curitiba</td>\n",
       "      <td>ecoville</td>\n",
       "      <td>4</td>\n",
       "      <td>4.0</td>\n",
       "      <td>high</td>\n",
       "      <td>15.163584</td>\n",
       "      <td>1.609438</td>\n",
       "      <td>1.609438</td>\n",
       "      <td>0</td>\n",
       "      <td>0</td>\n",
       "      <td>0</td>\n",
       "      <td>0</td>\n",
       "      <td>0</td>\n",
       "      <td>0</td>\n",
       "      <td>0</td>\n",
       "      <td>0</td>\n",
       "      <td>1</td>\n",
       "    </tr>\n",
       "    <tr>\n",
       "      <th>2</th>\n",
       "      <td>2745000</td>\n",
       "      <td>curitiba</td>\n",
       "      <td>ecoville</td>\n",
       "      <td>3</td>\n",
       "      <td>4.0</td>\n",
       "      <td>high</td>\n",
       "      <td>14.825292</td>\n",
       "      <td>1.386294</td>\n",
       "      <td>1.609438</td>\n",
       "      <td>0</td>\n",
       "      <td>0</td>\n",
       "      <td>0</td>\n",
       "      <td>0</td>\n",
       "      <td>0</td>\n",
       "      <td>0</td>\n",
       "      <td>0</td>\n",
       "      <td>0</td>\n",
       "      <td>1</td>\n",
       "    </tr>\n",
       "    <tr>\n",
       "      <th>3</th>\n",
       "      <td>3032000</td>\n",
       "      <td>curitiba</td>\n",
       "      <td>ecoville</td>\n",
       "      <td>3</td>\n",
       "      <td>4.0</td>\n",
       "      <td>high</td>\n",
       "      <td>14.924733</td>\n",
       "      <td>1.386294</td>\n",
       "      <td>1.609438</td>\n",
       "      <td>0</td>\n",
       "      <td>0</td>\n",
       "      <td>0</td>\n",
       "      <td>0</td>\n",
       "      <td>0</td>\n",
       "      <td>0</td>\n",
       "      <td>0</td>\n",
       "      <td>0</td>\n",
       "      <td>1</td>\n",
       "    </tr>\n",
       "    <tr>\n",
       "      <th>4</th>\n",
       "      <td>1640000</td>\n",
       "      <td>curitiba</td>\n",
       "      <td>champagnat</td>\n",
       "      <td>3</td>\n",
       "      <td>3.0</td>\n",
       "      <td>high</td>\n",
       "      <td>14.310207</td>\n",
       "      <td>1.386294</td>\n",
       "      <td>1.386294</td>\n",
       "      <td>0</td>\n",
       "      <td>0</td>\n",
       "      <td>0</td>\n",
       "      <td>0</td>\n",
       "      <td>0</td>\n",
       "      <td>1</td>\n",
       "      <td>0</td>\n",
       "      <td>0</td>\n",
       "      <td>0</td>\n",
       "    </tr>\n",
       "    <tr>\n",
       "      <th>...</th>\n",
       "      <td>...</td>\n",
       "      <td>...</td>\n",
       "      <td>...</td>\n",
       "      <td>...</td>\n",
       "      <td>...</td>\n",
       "      <td>...</td>\n",
       "      <td>...</td>\n",
       "      <td>...</td>\n",
       "      <td>...</td>\n",
       "      <td>...</td>\n",
       "      <td>...</td>\n",
       "      <td>...</td>\n",
       "      <td>...</td>\n",
       "      <td>...</td>\n",
       "      <td>...</td>\n",
       "      <td>...</td>\n",
       "      <td>...</td>\n",
       "      <td>...</td>\n",
       "    </tr>\n",
       "    <tr>\n",
       "      <th>2361</th>\n",
       "      <td>585000</td>\n",
       "      <td>curitiba</td>\n",
       "      <td>são francisco</td>\n",
       "      <td>2</td>\n",
       "      <td>2.0</td>\n",
       "      <td>low</td>\n",
       "      <td>13.279367</td>\n",
       "      <td>1.098612</td>\n",
       "      <td>1.098612</td>\n",
       "      <td>0</td>\n",
       "      <td>0</td>\n",
       "      <td>0</td>\n",
       "      <td>0</td>\n",
       "      <td>0</td>\n",
       "      <td>1</td>\n",
       "      <td>0</td>\n",
       "      <td>0</td>\n",
       "      <td>0</td>\n",
       "    </tr>\n",
       "    <tr>\n",
       "      <th>2362</th>\n",
       "      <td>1050000</td>\n",
       "      <td>curitiba</td>\n",
       "      <td>água verde</td>\n",
       "      <td>3</td>\n",
       "      <td>2.0</td>\n",
       "      <td>high</td>\n",
       "      <td>13.864301</td>\n",
       "      <td>1.386294</td>\n",
       "      <td>1.098612</td>\n",
       "      <td>0</td>\n",
       "      <td>0</td>\n",
       "      <td>0</td>\n",
       "      <td>0</td>\n",
       "      <td>0</td>\n",
       "      <td>0</td>\n",
       "      <td>0</td>\n",
       "      <td>1</td>\n",
       "      <td>0</td>\n",
       "    </tr>\n",
       "    <tr>\n",
       "      <th>2363</th>\n",
       "      <td>1271328</td>\n",
       "      <td>curitiba</td>\n",
       "      <td>mercês</td>\n",
       "      <td>3</td>\n",
       "      <td>2.0</td>\n",
       "      <td>high</td>\n",
       "      <td>14.055573</td>\n",
       "      <td>1.386294</td>\n",
       "      <td>1.098612</td>\n",
       "      <td>0</td>\n",
       "      <td>0</td>\n",
       "      <td>0</td>\n",
       "      <td>0</td>\n",
       "      <td>0</td>\n",
       "      <td>1</td>\n",
       "      <td>0</td>\n",
       "      <td>0</td>\n",
       "      <td>0</td>\n",
       "    </tr>\n",
       "    <tr>\n",
       "      <th>2364</th>\n",
       "      <td>3350000</td>\n",
       "      <td>curitiba</td>\n",
       "      <td>cabral</td>\n",
       "      <td>4</td>\n",
       "      <td>5.0</td>\n",
       "      <td>high</td>\n",
       "      <td>15.024471</td>\n",
       "      <td>1.609438</td>\n",
       "      <td>1.791759</td>\n",
       "      <td>0</td>\n",
       "      <td>0</td>\n",
       "      <td>0</td>\n",
       "      <td>0</td>\n",
       "      <td>0</td>\n",
       "      <td>1</td>\n",
       "      <td>0</td>\n",
       "      <td>0</td>\n",
       "      <td>0</td>\n",
       "    </tr>\n",
       "    <tr>\n",
       "      <th>2365</th>\n",
       "      <td>140000</td>\n",
       "      <td>curitiba</td>\n",
       "      <td>cidade industrial de curitiba</td>\n",
       "      <td>3</td>\n",
       "      <td>1.0</td>\n",
       "      <td>low</td>\n",
       "      <td>11.849398</td>\n",
       "      <td>1.386294</td>\n",
       "      <td>0.693147</td>\n",
       "      <td>0</td>\n",
       "      <td>0</td>\n",
       "      <td>0</td>\n",
       "      <td>0</td>\n",
       "      <td>1</td>\n",
       "      <td>0</td>\n",
       "      <td>0</td>\n",
       "      <td>0</td>\n",
       "      <td>0</td>\n",
       "    </tr>\n",
       "  </tbody>\n",
       "</table>\n",
       "<p>2365 rows × 18 columns</p>\n",
       "</div>"
      ],
      "text/plain": [
       "        price      city                   neighborhood  bedrooms  garage  \\\n",
       "0      194000  curitiba                  santa cândida         2     1.0   \n",
       "1     3850000  curitiba                       ecoville         4     4.0   \n",
       "2     2745000  curitiba                       ecoville         3     4.0   \n",
       "3     3032000  curitiba                       ecoville         3     4.0   \n",
       "4     1640000  curitiba                     champagnat         3     3.0   \n",
       "...       ...       ...                            ...       ...     ...   \n",
       "2361   585000  curitiba                  são francisco         2     2.0   \n",
       "2362  1050000  curitiba                     água verde         3     2.0   \n",
       "2363  1271328  curitiba                         mercês         3     2.0   \n",
       "2364  3350000  curitiba                         cabral         4     5.0   \n",
       "2365   140000  curitiba  cidade industrial de curitiba         3     1.0   \n",
       "\n",
       "     class  log_price  log_bedrooms  log_garage  region_bairro novo  \\\n",
       "0      low  12.175613      1.098612    0.693147                   0   \n",
       "1     high  15.163584      1.609438    1.609438                   0   \n",
       "2     high  14.825292      1.386294    1.609438                   0   \n",
       "3     high  14.924733      1.386294    1.609438                   0   \n",
       "4     high  14.310207      1.386294    1.386294                   0   \n",
       "...    ...        ...           ...         ...                 ...   \n",
       "2361   low  13.279367      1.098612    1.098612                   0   \n",
       "2362  high  13.864301      1.386294    1.098612                   0   \n",
       "2363  high  14.055573      1.386294    1.098612                   0   \n",
       "2364  high  15.024471      1.609438    1.791759                   0   \n",
       "2365   low  11.849398      1.386294    0.693147                   0   \n",
       "\n",
       "      region_boa vista  region_boqueirao  region_cajuru  region_cic  \\\n",
       "0                    1                 0              0           0   \n",
       "1                    0                 0              0           0   \n",
       "2                    0                 0              0           0   \n",
       "3                    0                 0              0           0   \n",
       "4                    0                 0              0           0   \n",
       "...                ...               ...            ...         ...   \n",
       "2361                 0                 0              0           0   \n",
       "2362                 0                 0              0           0   \n",
       "2363                 0                 0              0           0   \n",
       "2364                 0                 0              0           0   \n",
       "2365                 0                 0              0           1   \n",
       "\n",
       "      region_matriz  region_pinheirinho  region_portao  \\\n",
       "0                 0                   0              0   \n",
       "1                 0                   0              0   \n",
       "2                 0                   0              0   \n",
       "3                 0                   0              0   \n",
       "4                 1                   0              0   \n",
       "...             ...                 ...            ...   \n",
       "2361              1                   0              0   \n",
       "2362              0                   0              1   \n",
       "2363              1                   0              0   \n",
       "2364              1                   0              0   \n",
       "2365              0                   0              0   \n",
       "\n",
       "      region_santa felicidade  \n",
       "0                           0  \n",
       "1                           1  \n",
       "2                           1  \n",
       "3                           1  \n",
       "4                           0  \n",
       "...                       ...  \n",
       "2361                        0  \n",
       "2362                        0  \n",
       "2363                        0  \n",
       "2364                        0  \n",
       "2365                        0  \n",
       "\n",
       "[2365 rows x 18 columns]"
      ]
     },
     "execution_count": 136,
     "metadata": {},
     "output_type": "execute_result"
    }
   ],
   "source": [
    "# transformação das variáveis categóricas\n",
    "df = one_hot_encoder(df, \n",
    "                     ['region'], \n",
    "                     drop_first=False)\n",
    "df"
   ]
  },
  {
   "cell_type": "code",
   "execution_count": 138,
   "id": "251abd01",
   "metadata": {
    "scrolled": true
   },
   "outputs": [
    {
     "data": {
      "text/html": [
       "<div>\n",
       "<style scoped>\n",
       "    .dataframe tbody tr th:only-of-type {\n",
       "        vertical-align: middle;\n",
       "    }\n",
       "\n",
       "    .dataframe tbody tr th {\n",
       "        vertical-align: top;\n",
       "    }\n",
       "\n",
       "    .dataframe thead th {\n",
       "        text-align: right;\n",
       "    }\n",
       "</style>\n",
       "<table border=\"1\" class=\"dataframe\">\n",
       "  <thead>\n",
       "    <tr style=\"text-align: right;\">\n",
       "      <th></th>\n",
       "      <th>log_price</th>\n",
       "      <th>log_bedrooms</th>\n",
       "      <th>log_garage</th>\n",
       "      <th>region_bairro novo</th>\n",
       "      <th>region_boa vista</th>\n",
       "      <th>region_boqueirao</th>\n",
       "      <th>region_cajuru</th>\n",
       "      <th>region_cic</th>\n",
       "      <th>region_matriz</th>\n",
       "      <th>region_pinheirinho</th>\n",
       "      <th>region_portao</th>\n",
       "      <th>region_santa felicidade</th>\n",
       "    </tr>\n",
       "  </thead>\n",
       "  <tbody>\n",
       "    <tr>\n",
       "      <th>0</th>\n",
       "      <td>12.175613</td>\n",
       "      <td>1.098612</td>\n",
       "      <td>0.693147</td>\n",
       "      <td>0</td>\n",
       "      <td>1</td>\n",
       "      <td>0</td>\n",
       "      <td>0</td>\n",
       "      <td>0</td>\n",
       "      <td>0</td>\n",
       "      <td>0</td>\n",
       "      <td>0</td>\n",
       "      <td>0</td>\n",
       "    </tr>\n",
       "    <tr>\n",
       "      <th>1</th>\n",
       "      <td>15.163584</td>\n",
       "      <td>1.609438</td>\n",
       "      <td>1.609438</td>\n",
       "      <td>0</td>\n",
       "      <td>0</td>\n",
       "      <td>0</td>\n",
       "      <td>0</td>\n",
       "      <td>0</td>\n",
       "      <td>0</td>\n",
       "      <td>0</td>\n",
       "      <td>0</td>\n",
       "      <td>1</td>\n",
       "    </tr>\n",
       "    <tr>\n",
       "      <th>2</th>\n",
       "      <td>14.825292</td>\n",
       "      <td>1.386294</td>\n",
       "      <td>1.609438</td>\n",
       "      <td>0</td>\n",
       "      <td>0</td>\n",
       "      <td>0</td>\n",
       "      <td>0</td>\n",
       "      <td>0</td>\n",
       "      <td>0</td>\n",
       "      <td>0</td>\n",
       "      <td>0</td>\n",
       "      <td>1</td>\n",
       "    </tr>\n",
       "    <tr>\n",
       "      <th>3</th>\n",
       "      <td>14.924733</td>\n",
       "      <td>1.386294</td>\n",
       "      <td>1.609438</td>\n",
       "      <td>0</td>\n",
       "      <td>0</td>\n",
       "      <td>0</td>\n",
       "      <td>0</td>\n",
       "      <td>0</td>\n",
       "      <td>0</td>\n",
       "      <td>0</td>\n",
       "      <td>0</td>\n",
       "      <td>1</td>\n",
       "    </tr>\n",
       "    <tr>\n",
       "      <th>4</th>\n",
       "      <td>14.310207</td>\n",
       "      <td>1.386294</td>\n",
       "      <td>1.386294</td>\n",
       "      <td>0</td>\n",
       "      <td>0</td>\n",
       "      <td>0</td>\n",
       "      <td>0</td>\n",
       "      <td>0</td>\n",
       "      <td>1</td>\n",
       "      <td>0</td>\n",
       "      <td>0</td>\n",
       "      <td>0</td>\n",
       "    </tr>\n",
       "  </tbody>\n",
       "</table>\n",
       "</div>"
      ],
      "text/plain": [
       "   log_price  log_bedrooms  log_garage  region_bairro novo  region_boa vista  \\\n",
       "0  12.175613      1.098612    0.693147                   0                 1   \n",
       "1  15.163584      1.609438    1.609438                   0                 0   \n",
       "2  14.825292      1.386294    1.609438                   0                 0   \n",
       "3  14.924733      1.386294    1.609438                   0                 0   \n",
       "4  14.310207      1.386294    1.386294                   0                 0   \n",
       "\n",
       "   region_boqueirao  region_cajuru  region_cic  region_matriz  \\\n",
       "0                 0              0           0              0   \n",
       "1                 0              0           0              0   \n",
       "2                 0              0           0              0   \n",
       "3                 0              0           0              0   \n",
       "4                 0              0           0              1   \n",
       "\n",
       "   region_pinheirinho  region_portao  region_santa felicidade  \n",
       "0                   0              0                        0  \n",
       "1                   0              0                        1  \n",
       "2                   0              0                        1  \n",
       "3                   0              0                        1  \n",
       "4                   0              0                        0  "
      ]
     },
     "execution_count": 138,
     "metadata": {},
     "output_type": "execute_result"
    }
   ],
   "source": [
    "df_final = df.drop(columns=['price', 'city', 'neighborhood',\n",
    "                            'bedrooms', 'garage', 'class'])\n",
    "df_final.head()"
   ]
  },
  {
   "cell_type": "code",
   "execution_count": 139,
   "id": "ecb56469",
   "metadata": {},
   "outputs": [],
   "source": [
    "# criação de dataset de treino e teste\n",
    "y = df_final['log_price']\n",
    "X = df_final.drop(columns=['log_price'])"
   ]
  },
  {
   "cell_type": "code",
   "execution_count": 140,
   "id": "ebec7121",
   "metadata": {},
   "outputs": [
    {
     "name": "stdout",
     "output_type": "stream",
     "text": [
      "                            OLS Regression Results                            \n",
      "==============================================================================\n",
      "Dep. Variable:              log_price   R-squared:                       0.574\n",
      "Model:                            OLS   Adj. R-squared:                  0.573\n",
      "Method:                 Least Squares   F-statistic:                     1270.\n",
      "Date:                Tue, 16 Nov 2021   Prob (F-statistic):               0.00\n",
      "Time:                        15:34:59   Log-Likelihood:                -1765.6\n",
      "No. Observations:                1892   AIC:                             3537.\n",
      "Df Residuals:                    1889   BIC:                             3554.\n",
      "Df Model:                           2                                         \n",
      "Covariance Type:            nonrobust                                         \n",
      "================================================================================\n",
      "                   coef    std err          t      P>|t|      [0.025      0.975]\n",
      "--------------------------------------------------------------------------------\n",
      "const           11.3665      0.072    157.927      0.000      11.225      11.508\n",
      "log_bedrooms     0.4018      0.071      5.644      0.000       0.262       0.541\n",
      "log_garage       1.7108      0.048     35.816      0.000       1.617       1.804\n",
      "==============================================================================\n",
      "Omnibus:                      418.623   Durbin-Watson:                   2.015\n",
      "Prob(Omnibus):                  0.000   Jarque-Bera (JB):             2139.681\n",
      "Skew:                           0.948   Prob(JB):                         0.00\n",
      "Kurtosis:                       7.853   Cond. No.                         13.3\n",
      "==============================================================================\n",
      "\n",
      "Notes:\n",
      "[1] Standard Errors assume that the covariance matrix of the errors is correctly specified.\n"
     ]
    }
   ],
   "source": [
    "X_train, X_test, y_train, y_test = train_test_split(\n",
    "    X, y, test_size=0.2, random_state=10)\n",
    "\n",
    "X_train_constant = sm.add_constant(X_train)\n",
    "\n",
    "model_statsmodels = sm.OLS(y_train, X_train_com_constante, hasconst = True).fit()\n",
    "\n",
    "print(model_statsmodels.summary())"
   ]
  },
  {
   "cell_type": "code",
   "execution_count": 142,
   "id": "ae66a9cf",
   "metadata": {},
   "outputs": [],
   "source": [
    "model = LinearRegression()"
   ]
  },
  {
   "cell_type": "code",
   "execution_count": 143,
   "id": "562f8926",
   "metadata": {},
   "outputs": [
    {
     "data": {
      "text/plain": [
       "LinearRegression()"
      ]
     },
     "execution_count": 143,
     "metadata": {},
     "output_type": "execute_result"
    }
   ],
   "source": [
    "model.fit(X_train, y_train)"
   ]
  },
  {
   "cell_type": "code",
   "execution_count": 144,
   "id": "60c06d44",
   "metadata": {},
   "outputs": [
    {
     "name": "stdout",
     "output_type": "stream",
     "text": [
      "R² = 0.653\n"
     ]
    }
   ],
   "source": [
    "print('R² = {}'.format(model.score(X_train, y_train).round(3)))"
   ]
  },
  {
   "cell_type": "code",
   "execution_count": 145,
   "id": "2dad6a9c",
   "metadata": {},
   "outputs": [],
   "source": [
    "y_previsto = model.predict(X_test)"
   ]
  },
  {
   "cell_type": "code",
   "execution_count": 146,
   "id": "db853b70",
   "metadata": {},
   "outputs": [
    {
     "name": "stdout",
     "output_type": "stream",
     "text": [
      "R² = 0.672\n"
     ]
    }
   ],
   "source": [
    "print('R² = %s' % metrics.r2_score(y_test, y_previsto).round(3))"
   ]
  },
  {
   "cell_type": "code",
   "execution_count": 148,
   "id": "cb944ff2",
   "metadata": {},
   "outputs": [
    {
     "data": {
      "text/plain": [
       "11.147008364172116"
      ]
     },
     "execution_count": 148,
     "metadata": {},
     "output_type": "execute_result"
    }
   ],
   "source": [
    "model.intercept_"
   ]
  },
  {
   "cell_type": "code",
   "execution_count": 149,
   "id": "ec68ae68",
   "metadata": {},
   "outputs": [
    {
     "data": {
      "text/plain": [
       "69356.02944215207"
      ]
     },
     "execution_count": 149,
     "metadata": {},
     "output_type": "execute_result"
    }
   ],
   "source": [
    "np.exp(model.intercept_)"
   ]
  },
  {
   "cell_type": "code",
   "execution_count": 150,
   "id": "0786f118",
   "metadata": {},
   "outputs": [
    {
     "data": {
      "text/plain": [
       "array([ 0.43689081,  1.49839324, -0.73575251,  0.06630711, -0.33099431,\n",
       "       -0.43092562,  0.1564534 ,  0.5927897 , -0.18623528,  0.26943574,\n",
       "        0.59892177])"
      ]
     },
     "execution_count": 150,
     "metadata": {},
     "output_type": "execute_result"
    }
   ],
   "source": [
    "model.coef_"
   ]
  },
  {
   "cell_type": "code",
   "execution_count": 151,
   "id": "dc98fd33",
   "metadata": {},
   "outputs": [
    {
     "data": {
      "text/plain": [
       "Index(['log_bedrooms', 'log_garage', 'region_bairro novo', 'region_boa vista',\n",
       "       'region_boqueirao', 'region_cajuru', 'region_cic', 'region_matriz',\n",
       "       'region_pinheirinho', 'region_portao', 'region_santa felicidade'],\n",
       "      dtype='object')"
      ]
     },
     "execution_count": 151,
     "metadata": {},
     "output_type": "execute_result"
    }
   ],
   "source": [
    "X.columns"
   ]
  },
  {
   "cell_type": "code",
   "execution_count": 152,
   "id": "abde8329",
   "metadata": {},
   "outputs": [],
   "source": [
    "index = ['Intercepto', 'log_bedrooms', 'log_garage', 'region_bairro novo', 'region_boa vista',\n",
    "       'region_boqueirao', 'region_cajuru', 'region_cic', 'region_matriz',\n",
    "       'region_pinheirinho', 'region_portao', 'region_santa felicidade']"
   ]
  },
  {
   "cell_type": "code",
   "execution_count": 153,
   "id": "463359b5",
   "metadata": {},
   "outputs": [
    {
     "data": {
      "text/html": [
       "<div>\n",
       "<style scoped>\n",
       "    .dataframe tbody tr th:only-of-type {\n",
       "        vertical-align: middle;\n",
       "    }\n",
       "\n",
       "    .dataframe tbody tr th {\n",
       "        vertical-align: top;\n",
       "    }\n",
       "\n",
       "    .dataframe thead th {\n",
       "        text-align: right;\n",
       "    }\n",
       "</style>\n",
       "<table border=\"1\" class=\"dataframe\">\n",
       "  <thead>\n",
       "    <tr style=\"text-align: right;\">\n",
       "      <th></th>\n",
       "      <th>Parâmetros</th>\n",
       "    </tr>\n",
       "  </thead>\n",
       "  <tbody>\n",
       "    <tr>\n",
       "      <th>Intercepto</th>\n",
       "      <td>11.147008</td>\n",
       "    </tr>\n",
       "    <tr>\n",
       "      <th>log_bedrooms</th>\n",
       "      <td>0.436891</td>\n",
       "    </tr>\n",
       "    <tr>\n",
       "      <th>log_garage</th>\n",
       "      <td>1.498393</td>\n",
       "    </tr>\n",
       "    <tr>\n",
       "      <th>region_bairro novo</th>\n",
       "      <td>-0.735753</td>\n",
       "    </tr>\n",
       "    <tr>\n",
       "      <th>region_boa vista</th>\n",
       "      <td>0.066307</td>\n",
       "    </tr>\n",
       "    <tr>\n",
       "      <th>region_boqueirao</th>\n",
       "      <td>-0.330994</td>\n",
       "    </tr>\n",
       "    <tr>\n",
       "      <th>region_cajuru</th>\n",
       "      <td>-0.430926</td>\n",
       "    </tr>\n",
       "    <tr>\n",
       "      <th>region_cic</th>\n",
       "      <td>0.156453</td>\n",
       "    </tr>\n",
       "    <tr>\n",
       "      <th>region_matriz</th>\n",
       "      <td>0.592790</td>\n",
       "    </tr>\n",
       "    <tr>\n",
       "      <th>region_pinheirinho</th>\n",
       "      <td>-0.186235</td>\n",
       "    </tr>\n",
       "    <tr>\n",
       "      <th>region_portao</th>\n",
       "      <td>0.269436</td>\n",
       "    </tr>\n",
       "    <tr>\n",
       "      <th>region_santa felicidade</th>\n",
       "      <td>0.598922</td>\n",
       "    </tr>\n",
       "  </tbody>\n",
       "</table>\n",
       "</div>"
      ],
      "text/plain": [
       "                         Parâmetros\n",
       "Intercepto                11.147008\n",
       "log_bedrooms               0.436891\n",
       "log_garage                 1.498393\n",
       "region_bairro novo        -0.735753\n",
       "region_boa vista           0.066307\n",
       "region_boqueirao          -0.330994\n",
       "region_cajuru             -0.430926\n",
       "region_cic                 0.156453\n",
       "region_matriz              0.592790\n",
       "region_pinheirinho        -0.186235\n",
       "region_portao              0.269436\n",
       "region_santa felicidade    0.598922"
      ]
     },
     "execution_count": 153,
     "metadata": {},
     "output_type": "execute_result"
    }
   ],
   "source": [
    "pd.DataFrame(data=np.append(model.intercept_, model.coef_),\n",
    "            index=index, columns=['Parâmetros'])"
   ]
  },
  {
   "cell_type": "markdown",
   "id": "d3f94298",
   "metadata": {},
   "source": [
    "## Interpretação dos Coeficientes Estimados\n",
    "\n",
    "<p style='font-size: 20px; line-height: 2; margin: 10px 50px; text-align: justify;'>\n",
    "<b>Intercepto</b> → Excluindo o efeito das variáveis explicativas ($X_2=X_3=0$) o efeito médio no Preço dos Imóveis seria de <b>R$ 69.356,02\n",
    "</b> (exp[11.147]).\n",
    "</p>\n",
    "\n",
    "<p style='font-size: 20px; line-height: 2; margin: 10px 50px; text-align: justify;'>\n",
    "<b>Quartos</b> → Mantendo-se o valor das outras variáveis constante, um acréscimo em quartos gera, em média, um acréscimo de <b>0.43%</b> no Preço do Imóvel.\n",
    "</p>\n",
    "\n",
    "<p style='font-size: 20px; line-height: 2; margin: 10px 50px; text-align: justify;'>\n",
    "<b>Garagem</b> →  Mantendo-se o valor das outras variáveis constante, um acréscimo em garagem gera, em média, um acréscimo de <b>1.49%</b> no Preço do Imóvel.\n",
    "</p>"
   ]
  },
  {
   "cell_type": "code",
   "execution_count": 154,
   "id": "5b8a3275",
   "metadata": {},
   "outputs": [],
   "source": [
    "y_previsto_train = model.predict(X_train)"
   ]
  },
  {
   "cell_type": "code",
   "execution_count": 155,
   "id": "bbf0a553",
   "metadata": {},
   "outputs": [
    {
     "data": {
      "text/plain": [
       "<AxesSubplot:title={'center':'Previsão X Real'}, xlabel='log do Preço - Previsão', ylabel='log do Preço - Real'>"
      ]
     },
     "execution_count": 155,
     "metadata": {},
     "output_type": "execute_result"
    },
    {
     "data": {
      "image/png": "[encoded data removed]",
      "text/plain": [
       "<Figure size 864x432 with 1 Axes>"
      ]
     },
     "metadata": {},
     "output_type": "display_data"
    }
   ],
   "source": [
    "ax = sns.scatterplot(x=y_previsto_train, \n",
    "                     y=y_train)\n",
    "ax.figure.set_size_inches(12, 6)\n",
    "ax.set_title('Previsão X Real', fontsize=18)\n",
    "ax.set_xlabel('log do Preço - Previsão', fontsize=14)\n",
    "ax.set_ylabel('log do Preço - Real', fontsize=14)\n",
    "ax"
   ]
  },
  {
   "cell_type": "code",
   "execution_count": 156,
   "id": "6fad321a",
   "metadata": {},
   "outputs": [],
   "source": [
    "residuo = y_train - y_previsto_train"
   ]
  },
  {
   "cell_type": "code",
   "execution_count": 157,
   "id": "f4b7600e",
   "metadata": {},
   "outputs": [
    {
     "data": {
      "image/png": "[encoded data removed]",
      "text/plain": [
       "<Figure size 864x432 with 1 Axes>"
      ]
     },
     "metadata": {},
     "output_type": "display_data"
    }
   ],
   "source": [
    "ax = sns.distplot(residuo)\n",
    "ax.figure.set_size_inches(12, 6)\n",
    "ax.set_title('Distribuição de Frequências dos Resíduos', fontsize=18)\n",
    "ax.set_xlabel('log do Preço', fontsize=14)\n",
    "ax;"
   ]
  }
 ],
 "metadata": {
  "kernelspec": {
   "display_name": "Python 3",
   "language": "python",
   "name": "python3"
  },
  "language_info": {
   "codemirror_mode": {
    "name": "ipython",
    "version": 3
   },
   "file_extension": ".py",
   "mimetype": "text/x-python",
   "name": "python",
   "nbconvert_exporter": "python",
   "pygments_lexer": "ipython3",
   "version": "3.8.8"
  },
  "varInspector": {
   "cols": {
    "lenName": 16,
    "lenType": 16,
    "lenVar": 40
   },
   "kernels_config": {
    "python": {
     "delete_cmd_postfix": "",
     "delete_cmd_prefix": "del ",
     "library": "var_list.py",
     "varRefreshCmd": "print(var_dic_list())"
    },
    "r": {
     "delete_cmd_postfix": ") ",
     "delete_cmd_prefix": "rm(",
     "library": "var_list.r",
     "varRefreshCmd": "cat(var_dic_list()) "
    }
   },
   "types_to_exclude": [
    "module",
    "function",
    "builtin_function_or_method",
    "instance",
    "_Feature"
   ],
   "window_display": false
  }
 },
 "nbformat": 4,
 "nbformat_minor": 5
}
